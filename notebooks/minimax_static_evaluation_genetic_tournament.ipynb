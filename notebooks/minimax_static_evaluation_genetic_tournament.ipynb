{
 "cells": [
  {
   "cell_type": "markdown",
   "metadata": {},
   "source": [
    "# Genetic tournament to determine minimax static evaluation component weights"
   ]
  },
  {
   "cell_type": "markdown",
   "metadata": {},
   "source": [
    "## Problematic"
   ]
  },
  {
   "cell_type": "markdown",
   "metadata": {},
   "source": [
    "The `evaluate()` function from the `StaticEvaluation` class, used within the `minimax()` function, returns the evaluation of a board position based on six components :\n",
    "\n",
    "- `coin_parity()`\n",
    "- `actual_mobility()`\n",
    "- `potential_mobility()`\n",
    "- `corners_captured(game)`\n",
    "- `future_corners_captured()`\n",
    "- `static_weights()`\n",
    "\n",
    "The remaining question is : **how to balance each component to produce the most effective algorithm to play Othello?**\n",
    "\n",
    "To answer this question, we can create a **genetic tournament** where different versions of the `evaluate()` function (with different component weights) will evolve and compete against each other until we find the most effective for a given number of iterations."
   ]
  },
  {
   "cell_type": "markdown",
   "metadata": {},
   "source": [
    "## Genetic tournament"
   ]
  },
  {
   "cell_type": "markdown",
   "metadata": {},
   "source": [
    "The general algorithm of a genetic algorithm is the following :\n",
    "\n",
    "1. Randomly initialize a population of $N_{chromosomes}$ **chromosomes**\n",
    "2. Repeat for $N_{generations}$ generations\n",
    "    1. Determine the **fitness** of each chromosome\n",
    "    2. Create an **elitism** by keeping the chromosomes with the highest fitness\n",
    "    3. Randomly select parents based on their fitness\n",
    "    4. Generate offspring by **crossover**\n",
    "    5. Perform **mutation** on the offspring\n",
    "    6. Merge the elite chromosomes and the offspring to create the next population"
   ]
  },
  {
   "cell_type": "markdown",
   "metadata": {},
   "source": [
    "### Chromosome"
   ]
  },
  {
   "cell_type": "markdown",
   "metadata": {},
   "source": [
    "A **chromosome** will be a list of numbers (called genes) representing the balance between all the different components.\n",
    "\n",
    "`c = (0.1, 0.2, 0.4, 0.05, 0.25)`\n",
    "\n",
    "The sum of all the numbers will add up to 1, as they each represent a proportion of the global evaluation."
   ]
  },
  {
   "cell_type": "markdown",
   "metadata": {},
   "source": [
    "### Fitness"
   ]
  },
  {
   "cell_type": "markdown",
   "metadata": {},
   "source": [
    "The **fitness** of a chromosome will represent how strong the component's balance is at playing Othello.\n",
    "\n",
    "This strongness will be measured by making each pair of chromosomes in a given population play against each other with a $D_{fitness}$ depth of search, once as black and once as white, and counting the ratio of win-loss."
   ]
  },
  {
   "cell_type": "markdown",
   "metadata": {},
   "source": [
    "### Elitism"
   ]
  },
  {
   "cell_type": "markdown",
   "metadata": {},
   "source": [
    "To ensure the average fitness of our population is increasing with each generation, we will create an **elitism** by keeping $N_{elites}$ chromosomes with the highest fitness for the next generation."
   ]
  },
  {
   "cell_type": "markdown",
   "metadata": {},
   "source": [
    "### Crossover"
   ]
  },
  {
   "cell_type": "markdown",
   "metadata": {},
   "source": [
    "A **crossover** is a method used to create offspring with parent chromosomes.\n",
    "\n",
    "Among the plethora of crossover methods that exist, we will use **one-point**, **two-point** and **uniform** crossovers."
   ]
  },
  {
   "cell_type": "markdown",
   "metadata": {},
   "source": [
    "#### One-point crossover"
   ]
  },
  {
   "cell_type": "markdown",
   "metadata": {},
   "source": [
    "**One-point crossover** creates two children from two parents' chromosomes by swapping their genes that are before a randomly picked point.\n",
    "\n",
    "```\n",
    "# Parents\n",
    "p1 = (a, b, c, d, e)\n",
    "p2 = (f, g, h, i, j)\n",
    "\n",
    "# One-point crossover at index 1\n",
    "\n",
    "# Children\n",
    "c1 = (f, g, h, d, e)\n",
    "c2 = (a, b, c, i, j)\n",
    "```\n",
    "\n",
    "Due to our balance constraint, we will need to normalize each  new child to ensure the sum of their genes adds up to 1."
   ]
  },
  {
   "cell_type": "markdown",
   "metadata": {},
   "source": [
    "#### Two-point crossover"
   ]
  },
  {
   "cell_type": "markdown",
   "metadata": {},
   "source": [
    "**Two-point crossover** creates two children from two parents' chromosomes by swapping their genes between two distinct, randomly picked points.\n",
    "\n",
    "```\n",
    "# Parents\n",
    "p1 = (a, b, c, d, e)\n",
    "p2 = (f, g, h, i, j)\n",
    "\n",
    "# One-point crossover at index 0 and index 3\n",
    "\n",
    "# Children\n",
    "c1 = (a, g, h, i, e)\n",
    "c2 = (f, b, c, d, j)\n",
    "```\n",
    "\n",
    "Due to our balance constraint, we will need to normalize each  new child to ensure the sum of their genes adds up to 1."
   ]
  },
  {
   "cell_type": "markdown",
   "metadata": {},
   "source": [
    "#### Uniform crossover"
   ]
  },
  {
   "cell_type": "markdown",
   "metadata": {},
   "source": [
    "**Uniform crossover** creates two children from two parents' chromosomes by randomly swapping each parent's corresponding genes with a probability $P_{swap}$.\n",
    "\n",
    "```\n",
    "# Parents\n",
    "p1 = (a, b, c, d, e)\n",
    "p2 = (f, g, h, i, j)\n",
    "\n",
    "# Binary swap mask (0 -> don't swap, 1 -> swap)\n",
    "bm = (0, 1, 1, 0, 1)\n",
    "\n",
    "# Children\n",
    "c1 = (a, b, c, i, j)\n",
    "c2 = (f, g, g, d, e)\n",
    "```\n",
    "\n",
    "Due to our balance constraint, we will need to normalize each new child to ensure the sum of their genes adds up to 1."
   ]
  },
  {
   "cell_type": "markdown",
   "metadata": {},
   "source": [
    "### Mutation"
   ]
  },
  {
   "cell_type": "markdown",
   "metadata": {},
   "source": [
    "**Mutation** is used to create diversity within our population of fresh children by tweaking, with a low $P_{mutate}$ probability, some chromosomes' genes.\n",
    "\n",
    "As for crossover, there are plenty of methods to do it. We will focus our efforts on the **swap**, **scramble** and **inversion** mutations."
   ]
  },
  {
   "cell_type": "markdown",
   "metadata": {},
   "source": [
    "#### Swap mutation"
   ]
  },
  {
   "cell_type": "markdown",
   "metadata": {},
   "source": [
    "The **swap mutation** randomly selects two distinct genes from a chromosome and swaps them.\n",
    "\n",
    "```\n",
    "# Chromosome\n",
    "c1 = (a, b, c, d, e)\n",
    "\n",
    "# Swap genes 0 and 3\n",
    "\n",
    "# Mutation\n",
    "m1 = (d, b, c, a, e)\n",
    "```"
   ]
  },
  {
   "cell_type": "markdown",
   "metadata": {},
   "source": [
    "#### Scramble mutation"
   ]
  },
  {
   "cell_type": "markdown",
   "metadata": {},
   "source": [
    "The **scramble mutation** randomly selects a subsequence of genes from a chromosome and randomly scrambles it.\n",
    "\n",
    "```\n",
    "# Chromosome\n",
    "c1 = (a, b, c, d, e)\n",
    "\n",
    "# Subsequence 0 to 3\n",
    "\n",
    "# Mutation\n",
    "m1 = (b, d, c, a, e)\n",
    "```"
   ]
  },
  {
   "cell_type": "markdown",
   "metadata": {},
   "source": [
    "#### Inversion mutation"
   ]
  },
  {
   "cell_type": "markdown",
   "metadata": {},
   "source": [
    "The **inversion mutation** randomly selects a subsequence of genes from a chromosome and reverses it.\n",
    "\n",
    "```\n",
    "# Chromosome\n",
    "c1 = (a, b, c, d, e)\n",
    "\n",
    "# Subsequence 0 to 3\n",
    "\n",
    "# Mutation\n",
    "m1 = (d, c, b, a, e)\n",
    "```"
   ]
  },
  {
   "cell_type": "markdown",
   "metadata": {},
   "source": [
    "## Implementation"
   ]
  },
  {
   "cell_type": "markdown",
   "metadata": {},
   "source": [
    "### Imports"
   ]
  },
  {
   "cell_type": "code",
   "execution_count": 3,
   "metadata": {},
   "outputs": [],
   "source": [
    "import sys\n",
    "sys.path.append('..')"
   ]
  },
  {
   "cell_type": "code",
   "execution_count": 254,
   "metadata": {},
   "outputs": [],
   "source": [
    "%matplotlib inline\n",
    "\n",
    "import numpy as np\n",
    "import pandas as pd\n",
    "import seaborn as sns\n",
    "\n",
    "from matplotlib import pyplot as plt\n",
    "from seaborn import objects as so\n",
    "from tqdm import tqdm\n",
    "\n",
    "from genetic.crossover import (\n",
    "    one_point_crossover,\n",
    "    two_point_crossover,\n",
    "    uniform_crossover,\n",
    ")\n",
    "from genetic.fitness import play_tournament\n",
    "from genetic.mutate import inversion, scramble, swap\n",
    "from genetic.population import generate_random_population\n",
    "\n",
    "sns.set(rc={'figure.figsize':(10, 6)})\n",
    "sns.set_style('ticks')\n",
    "\n",
    "so.Plot.config.theme.update(sns.axes_style(\"ticks\"))"
   ]
  },
  {
   "cell_type": "markdown",
   "metadata": {},
   "source": [
    "### Parameters"
   ]
  },
  {
   "cell_type": "code",
   "execution_count": 13,
   "metadata": {},
   "outputs": [],
   "source": [
    "N_CHROMOSOMES = 2\n",
    "N_GENERATIONS = 3\n",
    "N_ELITES = 0\n",
    "\n",
    "# Make sure N_CHROMOSOMES - N_ELITES is divisible by 2\n",
    "\n",
    "D_FITNESS = 1\n",
    "P_SWAP = 0.5\n",
    "P_MUTATE = 0.1\n",
    "\n",
    "MAX_FITNESS = (N_CHROMOSOMES - 1) * 2\n",
    "MIN_FITNESS = -MAX_FITNESS"
   ]
  },
  {
   "cell_type": "markdown",
   "metadata": {},
   "source": [
    "### Random"
   ]
  },
  {
   "cell_type": "code",
   "execution_count": 9,
   "metadata": {},
   "outputs": [],
   "source": [
    "np.random.seed(42)\n",
    "rng = np.random.default_rng()"
   ]
  },
  {
   "cell_type": "markdown",
   "metadata": {},
   "source": [
    "### Evolution"
   ]
  },
  {
   "cell_type": "markdown",
   "metadata": {},
   "source": [
    "#### Metrics"
   ]
  },
  {
   "cell_type": "code",
   "execution_count": 19,
   "metadata": {},
   "outputs": [],
   "source": [
    "evolution_population = []\n",
    "evolution_fitnesses = []"
   ]
  },
  {
   "cell_type": "markdown",
   "metadata": {},
   "source": [
    "#### Loop"
   ]
  },
  {
   "cell_type": "code",
   "execution_count": 20,
   "metadata": {},
   "outputs": [
    {
     "name": "stderr",
     "output_type": "stream",
     "text": [
      "100%|██████████| 3/3 [12:04<00:00, 241.58s/it]\n"
     ]
    }
   ],
   "source": [
    "# 1. Randomly initialize a population of chromosomes\n",
    "population = generate_random_population(N_CHROMOSOMES)\n",
    "\n",
    "# 2. Repeat for each generation\n",
    "for i in tqdm(range(N_GENERATIONS)):\n",
    "    # 1. Determine the fitness of each chromosome\n",
    "    fitnesses = play_tournament(population, depth=D_FITNESS)\n",
    "\n",
    "    evolution_population.append(population)\n",
    "    evolution_fitnesses.append(fitnesses)\n",
    "\n",
    "    # 2. Create an elitism by keeping the chromosomes with the highest fitness\n",
    "    if N_ELITES == 0:\n",
    "        elites = np.array([], dtype=float)\n",
    "    else:\n",
    "        # https://stackoverflow.com/a/23734295\n",
    "        max_fitness_indices = np.argpartition(fitnesses, -N_ELITES)[N_ELITES:]\n",
    "        elites = population[max_fitness_indices]\n",
    "\n",
    "    # 3. Randomly select parents based on their fitness\n",
    "    if fitnesses.max == fitnesses.min:\n",
    "        weights = np.full(len(fitnesses), 1 / len(fitnesses)) \n",
    "    else:\n",
    "        fitnesses_min_max = (fitnesses - MIN_FITNESS) / (MAX_FITNESS - MIN_FITNESS)\n",
    "        weights = fitnesses_min_max / fitnesses_min_max.sum()\n",
    "\n",
    "    parents_indices = rng.choice(N_CHROMOSOMES, size=(int((N_CHROMOSOMES - N_ELITES) / 2), 2), p=weights)\n",
    "    parents = population[parents_indices]\n",
    "\n",
    "    # 4. Generate offspring by crossover\n",
    "    offsprings = np.empty(N_CHROMOSOMES - N_ELITES, dtype=\"object\")\n",
    "\n",
    "    for i, (p1, p2) in enumerate(parents):\n",
    "        r = rng.choice([0, 1, 2], size=1)\n",
    "\n",
    "        if r == 0:\n",
    "            c1, c2 = one_point_crossover(p1, p2)\n",
    "        elif r == 1:\n",
    "            c1, c2 = two_point_crossover(p1, p2)\n",
    "        else:\n",
    "            c1, c2 = uniform_crossover(p1, p2, P_SWAP)\n",
    "\n",
    "        offsprings[2 * i], offsprings[(2 * i )+ 1] = c1, c2\n",
    "\n",
    "    offsprings = np.array(list(offsprings), dtype=float)  # Fix shape issue with concatenation\n",
    "\n",
    "    # 5. Perform mutation on the offspring\n",
    "    for c in offsprings:\n",
    "        if rng.random() > P_MUTATE:\n",
    "            continue\n",
    "\n",
    "        r = rng.choice([0, 1, 2], size=1)\n",
    "\n",
    "        if r == 0:\n",
    "            c = swap(c)\n",
    "        elif r == 1:\n",
    "            c = scramble(c)\n",
    "        else:\n",
    "            c = inversion(c)\n",
    "\n",
    "    # 6. Merge the elite chromosomes and the offspring to create the next population\n",
    "    if N_ELITES == 0:\n",
    "        next_population = offsprings\n",
    "    else:\n",
    "        next_population = np.concatenate((elites, offsprings))\n",
    "\n",
    "    population = next_population.copy()\n",
    "\n",
    "evolution_population = np.array(evolution_population)\n",
    "evolution_fitnesses = np.array(evolution_fitnesses)"
   ]
  },
  {
   "cell_type": "code",
   "execution_count": 288,
   "metadata": {},
   "outputs": [
    {
     "data": {
      "text/plain": [
       "(3, 2)"
      ]
     },
     "execution_count": 288,
     "metadata": {},
     "output_type": "execute_result"
    }
   ],
   "source": [
    "evolution_fitnesses.shape"
   ]
  },
  {
   "cell_type": "code",
   "execution_count": 289,
   "metadata": {},
   "outputs": [
    {
     "data": {
      "text/plain": [
       "array([[-2,  2],\n",
       "       [ 0,  0],\n",
       "       [ 0,  0]])"
      ]
     },
     "execution_count": 289,
     "metadata": {},
     "output_type": "execute_result"
    }
   ],
   "source": [
    "evolution_fitnesses"
   ]
  },
  {
   "cell_type": "markdown",
   "metadata": {},
   "source": [
    "### Save results"
   ]
  },
  {
   "cell_type": "markdown",
   "metadata": {},
   "source": [
    "#### Directories"
   ]
  },
  {
   "cell_type": "code",
   "execution_count": 103,
   "metadata": {},
   "outputs": [],
   "source": [
    "population_path = '../data/genetic_population_evolution.csv'\n",
    "fitnesses_path = '../data/genetic_fitnesses_evolution.csv'"
   ]
  },
  {
   "cell_type": "markdown",
   "metadata": {},
   "source": [
    "#### Save to csv"
   ]
  },
  {
   "cell_type": "code",
   "execution_count": 297,
   "metadata": {},
   "outputs": [
    {
     "data": {
      "text/html": [
       "<div>\n",
       "<style scoped>\n",
       "    .dataframe tbody tr th:only-of-type {\n",
       "        vertical-align: middle;\n",
       "    }\n",
       "\n",
       "    .dataframe tbody tr th {\n",
       "        vertical-align: top;\n",
       "    }\n",
       "\n",
       "    .dataframe thead th {\n",
       "        text-align: right;\n",
       "    }\n",
       "</style>\n",
       "<table border=\"1\" class=\"dataframe\">\n",
       "  <thead>\n",
       "    <tr style=\"text-align: right;\">\n",
       "      <th></th>\n",
       "      <th>generation</th>\n",
       "      <th>chromosome_0</th>\n",
       "      <th>chromosome_1</th>\n",
       "    </tr>\n",
       "  </thead>\n",
       "  <tbody>\n",
       "    <tr>\n",
       "      <th>0</th>\n",
       "      <td>0</td>\n",
       "      <td>-2</td>\n",
       "      <td>2</td>\n",
       "    </tr>\n",
       "    <tr>\n",
       "      <th>1</th>\n",
       "      <td>1</td>\n",
       "      <td>0</td>\n",
       "      <td>0</td>\n",
       "    </tr>\n",
       "    <tr>\n",
       "      <th>2</th>\n",
       "      <td>2</td>\n",
       "      <td>0</td>\n",
       "      <td>0</td>\n",
       "    </tr>\n",
       "  </tbody>\n",
       "</table>\n",
       "</div>"
      ],
      "text/plain": [
       "   generation  chromosome_0  chromosome_1\n",
       "0           0            -2             2\n",
       "1           1             0             0\n",
       "2           2             0             0"
      ]
     },
     "execution_count": 297,
     "metadata": {},
     "output_type": "execute_result"
    }
   ],
   "source": [
    "df_fitnesses = pd.DataFrame(evolution_fitnesses, columns=[f\"chromosome_{i}\" for i in range(N_CHROMOSOMES)])\n",
    "df_fitnesses.insert(0, \"generation\", df_fitnesses.index)\n",
    "\n",
    "df_fitnesses.head()"
   ]
  },
  {
   "cell_type": "code",
   "execution_count": 303,
   "metadata": {},
   "outputs": [
    {
     "data": {
      "text/html": [
       "<div>\n",
       "<style scoped>\n",
       "    .dataframe tbody tr th:only-of-type {\n",
       "        vertical-align: middle;\n",
       "    }\n",
       "\n",
       "    .dataframe tbody tr th {\n",
       "        vertical-align: top;\n",
       "    }\n",
       "\n",
       "    .dataframe thead th {\n",
       "        text-align: right;\n",
       "    }\n",
       "</style>\n",
       "<table border=\"1\" class=\"dataframe\">\n",
       "  <thead>\n",
       "    <tr style=\"text-align: right;\">\n",
       "      <th></th>\n",
       "      <th>generation</th>\n",
       "      <th>coin_parity</th>\n",
       "      <th>actual_mobility</th>\n",
       "      <th>potential_mobility</th>\n",
       "      <th>corners_captured</th>\n",
       "      <th>future_corners_captured</th>\n",
       "      <th>static_weights</th>\n",
       "    </tr>\n",
       "  </thead>\n",
       "  <tbody>\n",
       "    <tr>\n",
       "      <th>0</th>\n",
       "      <td>0</td>\n",
       "      <td>0.264118</td>\n",
       "      <td>0.130153</td>\n",
       "      <td>0.290358</td>\n",
       "      <td>0.045364</td>\n",
       "      <td>0.222582</td>\n",
       "      <td>0.047424</td>\n",
       "    </tr>\n",
       "    <tr>\n",
       "      <th>1</th>\n",
       "      <td>0</td>\n",
       "      <td>0.194706</td>\n",
       "      <td>0.174473</td>\n",
       "      <td>0.051695</td>\n",
       "      <td>0.202613</td>\n",
       "      <td>0.193768</td>\n",
       "      <td>0.182747</td>\n",
       "    </tr>\n",
       "    <tr>\n",
       "      <th>2</th>\n",
       "      <td>1</td>\n",
       "      <td>0.194706</td>\n",
       "      <td>0.174473</td>\n",
       "      <td>0.051695</td>\n",
       "      <td>0.202613</td>\n",
       "      <td>0.193768</td>\n",
       "      <td>0.182747</td>\n",
       "    </tr>\n",
       "    <tr>\n",
       "      <th>3</th>\n",
       "      <td>1</td>\n",
       "      <td>0.194706</td>\n",
       "      <td>0.174473</td>\n",
       "      <td>0.051695</td>\n",
       "      <td>0.202613</td>\n",
       "      <td>0.193768</td>\n",
       "      <td>0.182747</td>\n",
       "    </tr>\n",
       "    <tr>\n",
       "      <th>4</th>\n",
       "      <td>2</td>\n",
       "      <td>0.194706</td>\n",
       "      <td>0.174473</td>\n",
       "      <td>0.051695</td>\n",
       "      <td>0.202613</td>\n",
       "      <td>0.193768</td>\n",
       "      <td>0.182747</td>\n",
       "    </tr>\n",
       "  </tbody>\n",
       "</table>\n",
       "</div>"
      ],
      "text/plain": [
       "   generation  coin_parity  actual_mobility  potential_mobility  \\\n",
       "0           0     0.264118         0.130153            0.290358   \n",
       "1           0     0.194706         0.174473            0.051695   \n",
       "2           1     0.194706         0.174473            0.051695   \n",
       "3           1     0.194706         0.174473            0.051695   \n",
       "4           2     0.194706         0.174473            0.051695   \n",
       "\n",
       "   corners_captured  future_corners_captured  static_weights  \n",
       "0          0.045364                 0.222582        0.047424  \n",
       "1          0.202613                 0.193768        0.182747  \n",
       "2          0.202613                 0.193768        0.182747  \n",
       "3          0.202613                 0.193768        0.182747  \n",
       "4          0.202613                 0.193768        0.182747  "
      ]
     },
     "execution_count": 303,
     "metadata": {},
     "output_type": "execute_result"
    }
   ],
   "source": [
    "reshaped_data = evolution_population.reshape(-1, evolution_population.shape[-1])\n",
    "columns=[\"coin_parity\",\n",
    "         \"actual_mobility\",\n",
    "         \"potential_mobility\",\n",
    "         \"corners_captured\",\n",
    "         \"future_corners_captured\",\n",
    "         \"static_weights\"]\n",
    "\n",
    "df_population = pd.DataFrame(reshaped_data, columns=columns)\n",
    "\n",
    "index = np.repeat(np.arange(evolution_population.shape[0]), evolution_population.shape[1])\n",
    "df_population.insert(0, \"generation\", index)\n",
    "\n",
    "df_population.head()"
   ]
  },
  {
   "cell_type": "code",
   "execution_count": 304,
   "metadata": {},
   "outputs": [],
   "source": [
    "df_population.to_csv(population_path, index=False)\n",
    "df_fitnesses.to_csv(fitnesses_path, index=False)"
   ]
  },
  {
   "cell_type": "markdown",
   "metadata": {},
   "source": [
    "### Visualization"
   ]
  },
  {
   "cell_type": "markdown",
   "metadata": {},
   "source": [
    "#### Directories"
   ]
  },
  {
   "cell_type": "code",
   "execution_count": 307,
   "metadata": {},
   "outputs": [],
   "source": [
    "population_path = '../data/genetic_population_evolution.csv'\n",
    "fitnesses_path = '../data/genetic_fitnesses_evolution.csv'"
   ]
  },
  {
   "cell_type": "markdown",
   "metadata": {},
   "source": [
    "#### Load save data"
   ]
  },
  {
   "cell_type": "code",
   "execution_count": 328,
   "metadata": {},
   "outputs": [
    {
     "data": {
      "text/html": [
       "<div>\n",
       "<style scoped>\n",
       "    .dataframe tbody tr th:only-of-type {\n",
       "        vertical-align: middle;\n",
       "    }\n",
       "\n",
       "    .dataframe tbody tr th {\n",
       "        vertical-align: top;\n",
       "    }\n",
       "\n",
       "    .dataframe thead th {\n",
       "        text-align: right;\n",
       "    }\n",
       "</style>\n",
       "<table border=\"1\" class=\"dataframe\">\n",
       "  <thead>\n",
       "    <tr style=\"text-align: right;\">\n",
       "      <th></th>\n",
       "      <th>generation</th>\n",
       "      <th>coin_parity</th>\n",
       "      <th>actual_mobility</th>\n",
       "      <th>potential_mobility</th>\n",
       "      <th>corners_captured</th>\n",
       "      <th>future_corners_captured</th>\n",
       "      <th>static_weights</th>\n",
       "    </tr>\n",
       "  </thead>\n",
       "  <tbody>\n",
       "    <tr>\n",
       "      <th>0</th>\n",
       "      <td>0</td>\n",
       "      <td>0.264118</td>\n",
       "      <td>0.130153</td>\n",
       "      <td>0.290358</td>\n",
       "      <td>0.045364</td>\n",
       "      <td>0.222582</td>\n",
       "      <td>0.047424</td>\n",
       "    </tr>\n",
       "    <tr>\n",
       "      <th>1</th>\n",
       "      <td>0</td>\n",
       "      <td>0.194706</td>\n",
       "      <td>0.174473</td>\n",
       "      <td>0.051695</td>\n",
       "      <td>0.202613</td>\n",
       "      <td>0.193768</td>\n",
       "      <td>0.182747</td>\n",
       "    </tr>\n",
       "    <tr>\n",
       "      <th>2</th>\n",
       "      <td>1</td>\n",
       "      <td>0.194706</td>\n",
       "      <td>0.174473</td>\n",
       "      <td>0.051695</td>\n",
       "      <td>0.202613</td>\n",
       "      <td>0.193768</td>\n",
       "      <td>0.182747</td>\n",
       "    </tr>\n",
       "    <tr>\n",
       "      <th>3</th>\n",
       "      <td>1</td>\n",
       "      <td>0.194706</td>\n",
       "      <td>0.174473</td>\n",
       "      <td>0.051695</td>\n",
       "      <td>0.202613</td>\n",
       "      <td>0.193768</td>\n",
       "      <td>0.182747</td>\n",
       "    </tr>\n",
       "    <tr>\n",
       "      <th>4</th>\n",
       "      <td>2</td>\n",
       "      <td>0.194706</td>\n",
       "      <td>0.174473</td>\n",
       "      <td>0.051695</td>\n",
       "      <td>0.202613</td>\n",
       "      <td>0.193768</td>\n",
       "      <td>0.182747</td>\n",
       "    </tr>\n",
       "  </tbody>\n",
       "</table>\n",
       "</div>"
      ],
      "text/plain": [
       "   generation  coin_parity  actual_mobility  potential_mobility  \\\n",
       "0           0     0.264118         0.130153            0.290358   \n",
       "1           0     0.194706         0.174473            0.051695   \n",
       "2           1     0.194706         0.174473            0.051695   \n",
       "3           1     0.194706         0.174473            0.051695   \n",
       "4           2     0.194706         0.174473            0.051695   \n",
       "\n",
       "   corners_captured  future_corners_captured  static_weights  \n",
       "0          0.045364                 0.222582        0.047424  \n",
       "1          0.202613                 0.193768        0.182747  \n",
       "2          0.202613                 0.193768        0.182747  \n",
       "3          0.202613                 0.193768        0.182747  \n",
       "4          0.202613                 0.193768        0.182747  "
      ]
     },
     "execution_count": 328,
     "metadata": {},
     "output_type": "execute_result"
    }
   ],
   "source": [
    "df_population = pd.read_csv(population_path)\n",
    "df_population.head()"
   ]
  },
  {
   "cell_type": "code",
   "execution_count": 329,
   "metadata": {},
   "outputs": [
    {
     "data": {
      "text/html": [
       "<div>\n",
       "<style scoped>\n",
       "    .dataframe tbody tr th:only-of-type {\n",
       "        vertical-align: middle;\n",
       "    }\n",
       "\n",
       "    .dataframe tbody tr th {\n",
       "        vertical-align: top;\n",
       "    }\n",
       "\n",
       "    .dataframe thead th {\n",
       "        text-align: right;\n",
       "    }\n",
       "</style>\n",
       "<table border=\"1\" class=\"dataframe\">\n",
       "  <thead>\n",
       "    <tr style=\"text-align: right;\">\n",
       "      <th></th>\n",
       "      <th>generation</th>\n",
       "      <th>chromosome_0</th>\n",
       "      <th>chromosome_1</th>\n",
       "    </tr>\n",
       "  </thead>\n",
       "  <tbody>\n",
       "    <tr>\n",
       "      <th>0</th>\n",
       "      <td>0</td>\n",
       "      <td>-2</td>\n",
       "      <td>2</td>\n",
       "    </tr>\n",
       "    <tr>\n",
       "      <th>1</th>\n",
       "      <td>1</td>\n",
       "      <td>0</td>\n",
       "      <td>0</td>\n",
       "    </tr>\n",
       "    <tr>\n",
       "      <th>2</th>\n",
       "      <td>2</td>\n",
       "      <td>0</td>\n",
       "      <td>0</td>\n",
       "    </tr>\n",
       "  </tbody>\n",
       "</table>\n",
       "</div>"
      ],
      "text/plain": [
       "   generation  chromosome_0  chromosome_1\n",
       "0           0            -2             2\n",
       "1           1             0             0\n",
       "2           2             0             0"
      ]
     },
     "execution_count": 329,
     "metadata": {},
     "output_type": "execute_result"
    }
   ],
   "source": [
    "df_fitnesses = pd.read_csv(fitnesses_path,)\n",
    "df_fitnesses.head()"
   ]
  },
  {
   "cell_type": "markdown",
   "metadata": {},
   "source": [
    "#### Fitness evolution"
   ]
  },
  {
   "cell_type": "code",
   "execution_count": 382,
   "metadata": {},
   "outputs": [
    {
     "data": {
      "text/html": [
       "<div>\n",
       "<style scoped>\n",
       "    .dataframe tbody tr th:only-of-type {\n",
       "        vertical-align: middle;\n",
       "    }\n",
       "\n",
       "    .dataframe tbody tr th {\n",
       "        vertical-align: top;\n",
       "    }\n",
       "\n",
       "    .dataframe thead th {\n",
       "        text-align: right;\n",
       "    }\n",
       "</style>\n",
       "<table border=\"1\" class=\"dataframe\">\n",
       "  <thead>\n",
       "    <tr style=\"text-align: right;\">\n",
       "      <th></th>\n",
       "      <th>generation</th>\n",
       "      <th>measure</th>\n",
       "      <th>fitness</th>\n",
       "    </tr>\n",
       "  </thead>\n",
       "  <tbody>\n",
       "    <tr>\n",
       "      <th>0</th>\n",
       "      <td>0</td>\n",
       "      <td>max</td>\n",
       "      <td>2.0</td>\n",
       "    </tr>\n",
       "    <tr>\n",
       "      <th>1</th>\n",
       "      <td>1</td>\n",
       "      <td>max</td>\n",
       "      <td>0.0</td>\n",
       "    </tr>\n",
       "    <tr>\n",
       "      <th>2</th>\n",
       "      <td>2</td>\n",
       "      <td>max</td>\n",
       "      <td>0.0</td>\n",
       "    </tr>\n",
       "    <tr>\n",
       "      <th>3</th>\n",
       "      <td>0</td>\n",
       "      <td>mean</td>\n",
       "      <td>0.0</td>\n",
       "    </tr>\n",
       "    <tr>\n",
       "      <th>4</th>\n",
       "      <td>1</td>\n",
       "      <td>mean</td>\n",
       "      <td>0.0</td>\n",
       "    </tr>\n",
       "  </tbody>\n",
       "</table>\n",
       "</div>"
      ],
      "text/plain": [
       "   generation measure  fitness\n",
       "0           0     max      2.0\n",
       "1           1     max      0.0\n",
       "2           2     max      0.0\n",
       "3           0    mean      0.0\n",
       "4           1    mean      0.0"
      ]
     },
     "execution_count": 382,
     "metadata": {},
     "output_type": "execute_result"
    }
   ],
   "source": [
    "fitness_max = df_fitnesses.iloc[:, 1:].max(axis=1)\n",
    "fitness_mean = df_fitnesses.iloc[:, 1:].mean(axis=1)\n",
    "fitness_min = df_fitnesses.iloc[:, 1:].min(axis=1)\n",
    "\n",
    "data = pd.concat([fitness_max, fitness_mean, fitness_min], axis=1)\n",
    "data.columns = [\"max\", \"mean\", \"min\"]\n",
    "data.insert(0, \"generation\", df_fitnesses[\"generation\"])\n",
    "\n",
    "data_melted = data.melt(id_vars=\"generation\", var_name=\"measure\", value_name='fitness')\n",
    "\n",
    "data_melted.head()"
   ]
  },
  {
   "cell_type": "code",
   "execution_count": 383,
   "metadata": {},
   "outputs": [
    {
     "data": {
      "image/png": "[encoded data removed]",
      "text/plain": [
       "<Figure size 720x432 with 1 Axes>"
      ]
     },
     "metadata": {},
     "output_type": "display_data"
    }
   ],
   "source": [
    "sns.pointplot(data_melted, x=\"generation\", y=\"fitness\", hue=\"measure\")\n",
    "_ = plt.title(\"Evolution of fitness\")"
   ]
  },
  {
   "cell_type": "markdown",
   "metadata": {},
   "source": [
    "#### Population evolution"
   ]
  },
  {
   "cell_type": "code",
   "execution_count": 432,
   "metadata": {},
   "outputs": [
    {
     "data": {
      "text/html": [
       "<div>\n",
       "<style scoped>\n",
       "    .dataframe tbody tr th:only-of-type {\n",
       "        vertical-align: middle;\n",
       "    }\n",
       "\n",
       "    .dataframe tbody tr th {\n",
       "        vertical-align: top;\n",
       "    }\n",
       "\n",
       "    .dataframe thead th {\n",
       "        text-align: right;\n",
       "    }\n",
       "</style>\n",
       "<table border=\"1\" class=\"dataframe\">\n",
       "  <thead>\n",
       "    <tr style=\"text-align: right;\">\n",
       "      <th></th>\n",
       "      <th>generation</th>\n",
       "      <th>coin_parity</th>\n",
       "      <th>actual_mobility</th>\n",
       "      <th>potential_mobility</th>\n",
       "      <th>corners_captured</th>\n",
       "      <th>future_corners_captured</th>\n",
       "      <th>static_weights</th>\n",
       "    </tr>\n",
       "  </thead>\n",
       "  <tbody>\n",
       "    <tr>\n",
       "      <th>0</th>\n",
       "      <td>0</td>\n",
       "      <td>0.194706</td>\n",
       "      <td>0.174473</td>\n",
       "      <td>0.051695</td>\n",
       "      <td>0.202613</td>\n",
       "      <td>0.193768</td>\n",
       "      <td>0.182747</td>\n",
       "    </tr>\n",
       "    <tr>\n",
       "      <th>1</th>\n",
       "      <td>1</td>\n",
       "      <td>0.194706</td>\n",
       "      <td>0.174473</td>\n",
       "      <td>0.051695</td>\n",
       "      <td>0.202613</td>\n",
       "      <td>0.193768</td>\n",
       "      <td>0.182747</td>\n",
       "    </tr>\n",
       "    <tr>\n",
       "      <th>2</th>\n",
       "      <td>2</td>\n",
       "      <td>0.194706</td>\n",
       "      <td>0.174473</td>\n",
       "      <td>0.051695</td>\n",
       "      <td>0.202613</td>\n",
       "      <td>0.193768</td>\n",
       "      <td>0.182747</td>\n",
       "    </tr>\n",
       "  </tbody>\n",
       "</table>\n",
       "</div>"
      ],
      "text/plain": [
       "   generation  coin_parity  actual_mobility  potential_mobility  \\\n",
       "0           0     0.194706         0.174473            0.051695   \n",
       "1           1     0.194706         0.174473            0.051695   \n",
       "2           2     0.194706         0.174473            0.051695   \n",
       "\n",
       "   corners_captured  future_corners_captured  static_weights  \n",
       "0          0.202613                 0.193768        0.182747  \n",
       "1          0.202613                 0.193768        0.182747  \n",
       "2          0.202613                 0.193768        0.182747  "
      ]
     },
     "execution_count": 432,
     "metadata": {},
     "output_type": "execute_result"
    }
   ],
   "source": [
    "max_fitness_index_per_generation = np.array([np.argmax(f) for f in evolution_fitnesses])\n",
    "df_best_chromosomes = df_population.groupby(\"generation\").apply(lambda x: x.iloc[max_fitness_index_per_generation[x.name]])\n",
    "\n",
    "df_best_chromosomes.reset_index(drop=True, inplace=True)\n",
    "df_best_chromosomes[\"generation\"] = df_best_chromosomes.index\n",
    "\n",
    "df_best_chromosomes.head()"
   ]
  },
  {
   "cell_type": "code",
   "execution_count": 445,
   "metadata": {},
   "outputs": [
    {
     "data": {
      "text/html": [
       "<div>\n",
       "<style scoped>\n",
       "    .dataframe tbody tr th:only-of-type {\n",
       "        vertical-align: middle;\n",
       "    }\n",
       "\n",
       "    .dataframe tbody tr th {\n",
       "        vertical-align: top;\n",
       "    }\n",
       "\n",
       "    .dataframe thead th {\n",
       "        text-align: right;\n",
       "    }\n",
       "</style>\n",
       "<table border=\"1\" class=\"dataframe\">\n",
       "  <thead>\n",
       "    <tr style=\"text-align: right;\">\n",
       "      <th></th>\n",
       "      <th>generation</th>\n",
       "      <th>component</th>\n",
       "      <th>proportion</th>\n",
       "    </tr>\n",
       "  </thead>\n",
       "  <tbody>\n",
       "    <tr>\n",
       "      <th>0</th>\n",
       "      <td>0</td>\n",
       "      <td>coin_parity</td>\n",
       "      <td>0.194706</td>\n",
       "    </tr>\n",
       "    <tr>\n",
       "      <th>1</th>\n",
       "      <td>1</td>\n",
       "      <td>coin_parity</td>\n",
       "      <td>0.194706</td>\n",
       "    </tr>\n",
       "    <tr>\n",
       "      <th>2</th>\n",
       "      <td>2</td>\n",
       "      <td>coin_parity</td>\n",
       "      <td>0.194706</td>\n",
       "    </tr>\n",
       "    <tr>\n",
       "      <th>3</th>\n",
       "      <td>0</td>\n",
       "      <td>actual_mobility</td>\n",
       "      <td>0.174473</td>\n",
       "    </tr>\n",
       "    <tr>\n",
       "      <th>4</th>\n",
       "      <td>1</td>\n",
       "      <td>actual_mobility</td>\n",
       "      <td>0.174473</td>\n",
       "    </tr>\n",
       "  </tbody>\n",
       "</table>\n",
       "</div>"
      ],
      "text/plain": [
       "   generation        component  proportion\n",
       "0           0      coin_parity    0.194706\n",
       "1           1      coin_parity    0.194706\n",
       "2           2      coin_parity    0.194706\n",
       "3           0  actual_mobility    0.174473\n",
       "4           1  actual_mobility    0.174473"
      ]
     },
     "execution_count": 445,
     "metadata": {},
     "output_type": "execute_result"
    }
   ],
   "source": [
    "data_melted = df_best_chromosomes.melt(id_vars=\"generation\", var_name=\"component\", value_name='proportion')\n",
    "\n",
    "data_melted.head()"
   ]
  },
  {
   "cell_type": "code",
   "execution_count": 447,
   "metadata": {},
   "outputs": [
    {
     "data": {
      "image/png": "[encoded data removed]",
      "text/plain": [
       "<seaborn._core.plot.Plot at 0x7f5f72d552a0>"
      ]
     },
     "execution_count": 447,
     "metadata": {
      "image/png": {
       "height": 378.25,
       "width": 716.975
      }
     },
     "output_type": "execute_result"
    }
   ],
   "source": [
    "so.Plot(data_melted, x=\"generation\", y=\"proportion\", color=\"component\")\\\n",
    "  .add(so.Area(alpha=1), so.Stack())\\\n",
    "  .label(title=\"Evolution of static evaluation component proportions\")"
   ]
  }
 ],
 "metadata": {
  "kernelspec": {
   "display_name": "Python 3",
   "language": "python",
   "name": "python3"
  },
  "language_info": {
   "codemirror_mode": {
    "name": "ipython",
    "version": 3
   },
   "file_extension": ".py",
   "mimetype": "text/x-python",
   "name": "python",
   "nbconvert_exporter": "python",
   "pygments_lexer": "ipython3",
   "version": "3.10.9"
  }
 },
 "nbformat": 4,
 "nbformat_minor": 2
}
