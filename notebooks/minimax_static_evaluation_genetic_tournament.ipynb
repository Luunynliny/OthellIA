{
 "cells": [
  {
   "cell_type": "markdown",
   "metadata": {},
   "source": [
    "# Genetic tournament to determine minimax static evaluation component weights"
   ]
  },
  {
   "cell_type": "markdown",
   "metadata": {},
   "source": [
    "## Problematic"
   ]
  },
  {
   "cell_type": "markdown",
   "metadata": {},
   "source": [
    "The `evaluate()` function from the `StaticEvaluation` class, used within the `minimax()` function, returns the evaluation of a board position based on six components :\n",
    "\n",
    "- `coin_parity()`\n",
    "- `actual_mobility()`\n",
    "- `potential_mobility()`\n",
    "- `corners_captured(game)`\n",
    "- `future_corners_captured()`\n",
    "- `static_weights()`\n",
    "\n",
    "The remaining question is : **how to balance each component to produce the most effective algorithm to play Othello?**\n",
    "\n",
    "To answer this question, we can create a **genetic tournament** where different versions of the `evaluate()` function (with different component weights) will evolve and compete against each other until we find the most effective for a given number of iterations."
   ]
  },
  {
   "cell_type": "markdown",
   "metadata": {},
   "source": [
    "## Genetic tournament"
   ]
  },
  {
   "cell_type": "markdown",
   "metadata": {},
   "source": [
    "The general algorithm of a genetic algorithm is the following :\n",
    "\n",
    "1. Randomly initialize a population of $N_{chromosomes}$ **chromosomes**\n",
    "2. Repeat for $N_{generations}$ generations\n",
    "    1. Determine the **fitness** of each chromosome\n",
    "    2. Create an **elitism** by keeping the chromosomes with the highest fitness\n",
    "    3. Randomly select parents based on their fitness\n",
    "    4. Generate offspring by **crossover**\n",
    "    5. Perform **mutation** on the offspring\n",
    "    6. Merge the elite chromosomes and the offspring to create the next population"
   ]
  },
  {
   "cell_type": "markdown",
   "metadata": {},
   "source": [
    "### Chromosome"
   ]
  },
  {
   "cell_type": "markdown",
   "metadata": {},
   "source": [
    "A **chromosome** will be a list of numbers (called genes) representing the balance between all the different components.\n",
    "\n",
    "`c = (0.1, 0.2, 0.4, 0.05, 0.25)`\n",
    "\n",
    "The sum of all the numbers will add up to 1, as they each represent a proportion of the global evaluation."
   ]
  },
  {
   "cell_type": "markdown",
   "metadata": {},
   "source": [
    "### Fitness"
   ]
  },
  {
   "cell_type": "markdown",
   "metadata": {},
   "source": [
    "The **fitness** of a chromosome will represent how strong the component's balance is at playing Othello.\n",
    "\n",
    "This strongness will be measured by making each pair of chromosomes in a given population play against each other with a $D_{fitness}$ depth of search, once as black and once as white, and counting the ratio of win-loss."
   ]
  },
  {
   "cell_type": "markdown",
   "metadata": {},
   "source": [
    "### Elitism"
   ]
  },
  {
   "cell_type": "markdown",
   "metadata": {},
   "source": [
    "To ensure the average fitness of our population is increasing with each generation, we will create an **elitism** by keeping $N_{elites}$ chromosomes with the highest fitness for the next generation."
   ]
  },
  {
   "cell_type": "markdown",
   "metadata": {},
   "source": [
    "### Crossover"
   ]
  },
  {
   "cell_type": "markdown",
   "metadata": {},
   "source": [
    "A **crossover** is a method used to create offspring with parent chromosomes.\n",
    "\n",
    "Among the plethora of crossover methods that exist, we will use **one-point**, **two-point** and **uniform** crossovers."
   ]
  },
  {
   "cell_type": "markdown",
   "metadata": {},
   "source": [
    "#### One-point crossover"
   ]
  },
  {
   "cell_type": "markdown",
   "metadata": {},
   "source": [
    "**One-point crossover** creates two children from two parents' chromosomes by swapping their genes that are before a randomly picked point.\n",
    "\n",
    "```\n",
    "# Parents\n",
    "p1 = (a, b, c, d, e)\n",
    "p2 = (f, g, h, i, j)\n",
    "\n",
    "# One-point crossover at index 1\n",
    "\n",
    "# Children\n",
    "c1 = (f, g, h, d, e)\n",
    "c2 = (a, b, c, i, j)\n",
    "```\n",
    "\n",
    "Due to our balance constraint, we will need to normalize each  new child to ensure the sum of their genes adds up to 1."
   ]
  },
  {
   "cell_type": "markdown",
   "metadata": {},
   "source": [
    "#### Two-point crossover"
   ]
  },
  {
   "cell_type": "markdown",
   "metadata": {},
   "source": [
    "**Two-point crossover** creates two children from two parents' chromosomes by swapping their genes between two distinct, randomly picked points.\n",
    "\n",
    "```\n",
    "# Parents\n",
    "p1 = (a, b, c, d, e)\n",
    "p2 = (f, g, h, i, j)\n",
    "\n",
    "# One-point crossover at index 0 and index 3\n",
    "\n",
    "# Children\n",
    "c1 = (a, g, h, i, e)\n",
    "c2 = (f, b, c, d, j)\n",
    "```\n",
    "\n",
    "Due to our balance constraint, we will need to normalize each  new child to ensure the sum of their genes adds up to 1."
   ]
  },
  {
   "cell_type": "markdown",
   "metadata": {},
   "source": [
    "#### Uniform crossover"
   ]
  },
  {
   "cell_type": "markdown",
   "metadata": {},
   "source": [
    "**Uniform crossover** creates two children from two parents' chromosomes by randomly swapping each parent's corresponding genes with a probability $P_{swap}$.\n",
    "\n",
    "```\n",
    "# Parents\n",
    "p1 = (a, b, c, d, e)\n",
    "p2 = (f, g, h, i, j)\n",
    "\n",
    "# Binary swap mask (0 -> don't swap, 1 -> swap)\n",
    "bm = (0, 1, 1, 0, 1)\n",
    "\n",
    "# Children\n",
    "c1 = (a, b, c, i, j)\n",
    "c2 = (f, g, g, d, e)\n",
    "```\n",
    "\n",
    "Due to our balance constraint, we will need to normalize each new child to ensure the sum of their genes adds up to 1."
   ]
  },
  {
   "cell_type": "markdown",
   "metadata": {},
   "source": [
    "### Mutation"
   ]
  },
  {
   "cell_type": "markdown",
   "metadata": {},
   "source": [
    "**Mutation** is used to create diversity within our population of fresh children by tweaking, with a low $P_{mutate}$ probability, some chromosomes' genes.\n",
    "\n",
    "As for crossover, there are plenty of methods to do it. We will focus our efforts on the **swap**, **scramble** and **inversion** mutations."
   ]
  },
  {
   "cell_type": "markdown",
   "metadata": {},
   "source": [
    "#### Swap mutation"
   ]
  },
  {
   "cell_type": "markdown",
   "metadata": {},
   "source": [
    "The **swap mutation** randomly selects two distinct genes from a chromosome and swaps them.\n",
    "\n",
    "```\n",
    "# Chromosome\n",
    "c1 = (a, b, c, d, e)\n",
    "\n",
    "# Swap genes 0 and 3\n",
    "\n",
    "# Mutation\n",
    "m1 = (d, b, c, a, e)\n",
    "```"
   ]
  },
  {
   "cell_type": "markdown",
   "metadata": {},
   "source": [
    "#### Scramble mutation"
   ]
  },
  {
   "cell_type": "markdown",
   "metadata": {},
   "source": [
    "The **scramble mutation** randomly selects a subsequence of genes from a chromosome and randomly scrambles it.\n",
    "\n",
    "```\n",
    "# Chromosome\n",
    "c1 = (a, b, c, d, e)\n",
    "\n",
    "# Subsequence 0 to 3\n",
    "\n",
    "# Mutation\n",
    "m1 = (b, d, c, a, e)\n",
    "```"
   ]
  },
  {
   "cell_type": "markdown",
   "metadata": {},
   "source": [
    "#### Inversion mutation"
   ]
  },
  {
   "cell_type": "markdown",
   "metadata": {},
   "source": [
    "The **inversion mutation** randomly selects a subsequence of genes from a chromosome and reverses it.\n",
    "\n",
    "```\n",
    "# Chromosome\n",
    "c1 = (a, b, c, d, e)\n",
    "\n",
    "# Subsequence 0 to 3\n",
    "\n",
    "# Mutation\n",
    "m1 = (d, c, b, a, e)\n",
    "```"
   ]
  },
  {
   "cell_type": "markdown",
   "metadata": {},
   "source": [
    "## Implementation"
   ]
  },
  {
   "cell_type": "markdown",
   "metadata": {},
   "source": [
    "### Imports"
   ]
  },
  {
   "cell_type": "code",
   "execution_count": 1,
   "metadata": {},
   "outputs": [],
   "source": [
    "import sys\n",
    "sys.path.append('..')"
   ]
  },
  {
   "cell_type": "code",
   "execution_count": 2,
   "metadata": {},
   "outputs": [],
   "source": [
    "%matplotlib inline\n",
    "\n",
    "import numpy as np\n",
    "import pandas as pd\n",
    "import seaborn as sns\n",
    "\n",
    "from matplotlib import pyplot as plt\n",
    "from seaborn import objects as so\n",
    "from tqdm.notebook import tqdm\n",
    "\n",
    "from genetic.crossover import (\n",
    "    one_point_crossover,\n",
    "    two_point_crossover,\n",
    "    uniform_crossover,\n",
    ")\n",
    "from genetic.fitness import play_tournament\n",
    "from genetic.mutation import inversion, scramble, swap\n",
    "from genetic.population import generate_random_population\n",
    "\n",
    "sns.set(rc={'figure.figsize':(10, 6)})\n",
    "sns.set_style('ticks')\n",
    "\n",
    "so.Plot.config.theme.update(sns.axes_style(\"ticks\"))"
   ]
  },
  {
   "cell_type": "markdown",
   "metadata": {},
   "source": [
    "### Parameters"
   ]
  },
  {
   "cell_type": "code",
   "execution_count": 3,
   "metadata": {},
   "outputs": [],
   "source": [
    "N_CHROMOSOMES = 6\n",
    "N_GENERATIONS = 10\n",
    "N_ELITES = 2\n",
    "\n",
    "# Make sure N_CHROMOSOMES - N_ELITES is divisible by 2\n",
    "\n",
    "D_FITNESS = 2\n",
    "P_SWAP = 0.5\n",
    "P_MUTATE = 0.1\n",
    "\n",
    "MAX_FITNESS = (N_CHROMOSOMES - 1) * 2\n",
    "MIN_FITNESS = -MAX_FITNESS"
   ]
  },
  {
   "cell_type": "markdown",
   "metadata": {},
   "source": [
    "### Random"
   ]
  },
  {
   "cell_type": "code",
   "execution_count": 4,
   "metadata": {},
   "outputs": [],
   "source": [
    "np.random.seed(42)\n",
    "rng = np.random.default_rng()"
   ]
  },
  {
   "cell_type": "markdown",
   "metadata": {},
   "source": [
    "### Evolution"
   ]
  },
  {
   "cell_type": "markdown",
   "metadata": {},
   "source": [
    "#### Metrics"
   ]
  },
  {
   "cell_type": "code",
   "execution_count": 5,
   "metadata": {},
   "outputs": [],
   "source": [
    "evolution_population = []\n",
    "evolution_fitnesses = []"
   ]
  },
  {
   "cell_type": "markdown",
   "metadata": {},
   "source": [
    "#### Loop"
   ]
  },
  {
   "cell_type": "code",
   "execution_count": 6,
   "metadata": {},
   "outputs": [
    {
     "data": {
      "application/vnd.jupyter.widget-view+json": {
       "model_id": "e55fe8d32f1d4de6be9d399b3c1c245e",
       "version_major": 2,
       "version_minor": 0
      },
      "text/plain": [
       "Generation:   0%|          | 0/10 [00:00<?, ?it/s]"
      ]
     },
     "metadata": {},
     "output_type": "display_data"
    },
    {
     "data": {
      "application/vnd.jupyter.widget-view+json": {
       "model_id": "3bd64ccc6d70492d9223887e31b64a65",
       "version_major": 2,
       "version_minor": 0
      },
      "text/plain": [
       "Tournament:   0%|          | 0/30 [00:00<?, ?it/s]"
      ]
     },
     "metadata": {},
     "output_type": "display_data"
    },
    {
     "data": {
      "application/vnd.jupyter.widget-view+json": {
       "model_id": "2164bee9d9dc44a0a05ba0640d1eb505",
       "version_major": 2,
       "version_minor": 0
      },
      "text/plain": [
       "Tournament:   0%|          | 0/30 [00:00<?, ?it/s]"
      ]
     },
     "metadata": {},
     "output_type": "display_data"
    },
    {
     "data": {
      "application/vnd.jupyter.widget-view+json": {
       "model_id": "4ca7c8b4831a49dc8c3c993493032e42",
       "version_major": 2,
       "version_minor": 0
      },
      "text/plain": [
       "Tournament:   0%|          | 0/30 [00:00<?, ?it/s]"
      ]
     },
     "metadata": {},
     "output_type": "display_data"
    },
    {
     "data": {
      "application/vnd.jupyter.widget-view+json": {
       "model_id": "85e9ec0167d249cba852a520d7e4ff72",
       "version_major": 2,
       "version_minor": 0
      },
      "text/plain": [
       "Tournament:   0%|          | 0/30 [00:00<?, ?it/s]"
      ]
     },
     "metadata": {},
     "output_type": "display_data"
    },
    {
     "data": {
      "application/vnd.jupyter.widget-view+json": {
       "model_id": "b0ef1bc2bca4499880097238e62e5f60",
       "version_major": 2,
       "version_minor": 0
      },
      "text/plain": [
       "Tournament:   0%|          | 0/30 [00:00<?, ?it/s]"
      ]
     },
     "metadata": {},
     "output_type": "display_data"
    },
    {
     "data": {
      "application/vnd.jupyter.widget-view+json": {
       "model_id": "51e4073b45254e79926a73a69d96dc60",
       "version_major": 2,
       "version_minor": 0
      },
      "text/plain": [
       "Tournament:   0%|          | 0/30 [00:00<?, ?it/s]"
      ]
     },
     "metadata": {},
     "output_type": "display_data"
    },
    {
     "data": {
      "application/vnd.jupyter.widget-view+json": {
       "model_id": "35728dca841a4fca87ea015272325b0c",
       "version_major": 2,
       "version_minor": 0
      },
      "text/plain": [
       "Tournament:   0%|          | 0/30 [00:00<?, ?it/s]"
      ]
     },
     "metadata": {},
     "output_type": "display_data"
    },
    {
     "data": {
      "application/vnd.jupyter.widget-view+json": {
       "model_id": "0fd00a71c32e47cf8fc63dfd4efcbe2f",
       "version_major": 2,
       "version_minor": 0
      },
      "text/plain": [
       "Tournament:   0%|          | 0/30 [00:00<?, ?it/s]"
      ]
     },
     "metadata": {},
     "output_type": "display_data"
    },
    {
     "data": {
      "application/vnd.jupyter.widget-view+json": {
       "model_id": "7d0117af1418415aa65f9b4730964f4e",
       "version_major": 2,
       "version_minor": 0
      },
      "text/plain": [
       "Tournament:   0%|          | 0/30 [00:00<?, ?it/s]"
      ]
     },
     "metadata": {},
     "output_type": "display_data"
    },
    {
     "data": {
      "application/vnd.jupyter.widget-view+json": {
       "model_id": "d492fca726934f8dab3bccad89032f1d",
       "version_major": 2,
       "version_minor": 0
      },
      "text/plain": [
       "Tournament:   0%|          | 0/30 [00:00<?, ?it/s]"
      ]
     },
     "metadata": {},
     "output_type": "display_data"
    }
   ],
   "source": [
    "# 1. Randomly initialize a population of chromosomes\n",
    "population = generate_random_population(N_CHROMOSOMES)\n",
    "\n",
    "# 2. Repeat for each generation\n",
    "for i in tqdm(range(N_GENERATIONS), desc=\"Generation\"):\n",
    "    # 1. Determine the fitness of each chromosome\n",
    "    fitnesses = play_tournament(population, depth=D_FITNESS)\n",
    "\n",
    "    evolution_population.append(population)\n",
    "    evolution_fitnesses.append(fitnesses)\n",
    "\n",
    "    # 2. Create an elitism by keeping the chromosomes with the highest fitness\n",
    "    if N_ELITES == 0:\n",
    "        elites = np.array([], dtype=float)\n",
    "    else:\n",
    "        # https://stackoverflow.com/a/23734295\n",
    "        max_fitness_indices = fitnesses.argsort()[-N_ELITES:][::-1]\n",
    "        elites = population[max_fitness_indices]\n",
    "\n",
    "    # 3. Randomly select parents based on their fitness\n",
    "    if fitnesses.max() == fitnesses.min():\n",
    "        weights = np.full(len(fitnesses), 1 / len(fitnesses))\n",
    "    else:\n",
    "        fitnesses_min_max = (fitnesses - MIN_FITNESS) / (MAX_FITNESS - MIN_FITNESS)\n",
    "        weights = fitnesses_min_max / fitnesses_min_max.sum()\n",
    "\n",
    "    parents_indices = rng.choice(N_CHROMOSOMES, size=(int((N_CHROMOSOMES - N_ELITES) / 2), 2), p=weights)\n",
    "    parents = population[parents_indices]\n",
    "\n",
    "    # 4. Generate offspring by crossover\n",
    "    offsprings = np.empty(N_CHROMOSOMES - N_ELITES, dtype=\"object\")\n",
    "\n",
    "    for i, (p1, p2) in enumerate(parents):\n",
    "        r = rng.choice([0, 1, 2], size=1)\n",
    "\n",
    "        if r == 0:\n",
    "            c1, c2 = one_point_crossover(p1, p2)\n",
    "        elif r == 1:\n",
    "            c1, c2 = two_point_crossover(p1, p2)\n",
    "        else:\n",
    "            c1, c2 = uniform_crossover(p1, p2, P_SWAP)\n",
    "\n",
    "        offsprings[2 * i], offsprings[(2 * i )+ 1] = c1, c2\n",
    "\n",
    "    offsprings = np.array(list(offsprings), dtype=float)  # Fix shape issue with concatenation\n",
    "\n",
    "    # 5. Perform mutation on the offspring\n",
    "    for c in offsprings:\n",
    "        if rng.random() > P_MUTATE:\n",
    "            continue\n",
    "\n",
    "        r = rng.choice([0, 1, 2], size=1)\n",
    "\n",
    "        if r == 0:\n",
    "            c = swap(c)\n",
    "        elif r == 1:\n",
    "            c = scramble(c)\n",
    "        else:\n",
    "            c = inversion(c)\n",
    "\n",
    "    # 6. Merge the elite chromosomes and the offspring to create the next population\n",
    "    if N_ELITES == 0:\n",
    "        next_population = offsprings\n",
    "    else:\n",
    "        next_population = np.concatenate((elites, offsprings))\n",
    "\n",
    "    population = next_population.copy()\n",
    "\n",
    "evolution_population = np.array(evolution_population)\n",
    "evolution_fitnesses = np.array(evolution_fitnesses)"
   ]
  },
  {
   "cell_type": "markdown",
   "metadata": {},
   "source": [
    "### Save results"
   ]
  },
  {
   "cell_type": "markdown",
   "metadata": {},
   "source": [
    "#### Directories"
   ]
  },
  {
   "cell_type": "code",
   "execution_count": 7,
   "metadata": {},
   "outputs": [],
   "source": [
    "population_path = '../data/genetic_population_evolution.csv'\n",
    "fitnesses_path = '../data/genetic_fitnesses_evolution.csv'"
   ]
  },
  {
   "cell_type": "markdown",
   "metadata": {},
   "source": [
    "#### Save to csv"
   ]
  },
  {
   "cell_type": "code",
   "execution_count": 8,
   "metadata": {},
   "outputs": [
    {
     "data": {
      "text/html": [
       "<div>\n",
       "<style scoped>\n",
       "    .dataframe tbody tr th:only-of-type {\n",
       "        vertical-align: middle;\n",
       "    }\n",
       "\n",
       "    .dataframe tbody tr th {\n",
       "        vertical-align: top;\n",
       "    }\n",
       "\n",
       "    .dataframe thead th {\n",
       "        text-align: right;\n",
       "    }\n",
       "</style>\n",
       "<table border=\"1\" class=\"dataframe\">\n",
       "  <thead>\n",
       "    <tr style=\"text-align: right;\">\n",
       "      <th></th>\n",
       "      <th>generation</th>\n",
       "      <th>chromosome_0</th>\n",
       "      <th>chromosome_1</th>\n",
       "      <th>chromosome_2</th>\n",
       "      <th>chromosome_3</th>\n",
       "      <th>chromosome_4</th>\n",
       "      <th>chromosome_5</th>\n",
       "    </tr>\n",
       "  </thead>\n",
       "  <tbody>\n",
       "    <tr>\n",
       "      <th>0</th>\n",
       "      <td>0</td>\n",
       "      <td>-4</td>\n",
       "      <td>-4</td>\n",
       "      <td>8</td>\n",
       "      <td>-4</td>\n",
       "      <td>-4</td>\n",
       "      <td>8</td>\n",
       "    </tr>\n",
       "    <tr>\n",
       "      <th>1</th>\n",
       "      <td>1</td>\n",
       "      <td>4</td>\n",
       "      <td>4</td>\n",
       "      <td>-8</td>\n",
       "      <td>4</td>\n",
       "      <td>4</td>\n",
       "      <td>-8</td>\n",
       "    </tr>\n",
       "    <tr>\n",
       "      <th>2</th>\n",
       "      <td>2</td>\n",
       "      <td>2</td>\n",
       "      <td>2</td>\n",
       "      <td>2</td>\n",
       "      <td>2</td>\n",
       "      <td>-10</td>\n",
       "      <td>2</td>\n",
       "    </tr>\n",
       "    <tr>\n",
       "      <th>3</th>\n",
       "      <td>3</td>\n",
       "      <td>6</td>\n",
       "      <td>6</td>\n",
       "      <td>6</td>\n",
       "      <td>-6</td>\n",
       "      <td>-6</td>\n",
       "      <td>-6</td>\n",
       "    </tr>\n",
       "    <tr>\n",
       "      <th>4</th>\n",
       "      <td>4</td>\n",
       "      <td>0</td>\n",
       "      <td>0</td>\n",
       "      <td>0</td>\n",
       "      <td>0</td>\n",
       "      <td>0</td>\n",
       "      <td>0</td>\n",
       "    </tr>\n",
       "  </tbody>\n",
       "</table>\n",
       "</div>"
      ],
      "text/plain": [
       "   generation  chromosome_0  chromosome_1  chromosome_2  chromosome_3  \\\n",
       "0           0            -4            -4             8            -4   \n",
       "1           1             4             4            -8             4   \n",
       "2           2             2             2             2             2   \n",
       "3           3             6             6             6            -6   \n",
       "4           4             0             0             0             0   \n",
       "\n",
       "   chromosome_4  chromosome_5  \n",
       "0            -4             8  \n",
       "1             4            -8  \n",
       "2           -10             2  \n",
       "3            -6            -6  \n",
       "4             0             0  "
      ]
     },
     "execution_count": 8,
     "metadata": {},
     "output_type": "execute_result"
    }
   ],
   "source": [
    "df_fitnesses = pd.DataFrame(evolution_fitnesses, columns=[f\"chromosome_{i}\" for i in range(N_CHROMOSOMES)])\n",
    "df_fitnesses.insert(0, \"generation\", df_fitnesses.index)\n",
    "\n",
    "df_fitnesses.head()"
   ]
  },
  {
   "cell_type": "code",
   "execution_count": 9,
   "metadata": {},
   "outputs": [
    {
     "data": {
      "text/html": [
       "<div>\n",
       "<style scoped>\n",
       "    .dataframe tbody tr th:only-of-type {\n",
       "        vertical-align: middle;\n",
       "    }\n",
       "\n",
       "    .dataframe tbody tr th {\n",
       "        vertical-align: top;\n",
       "    }\n",
       "\n",
       "    .dataframe thead th {\n",
       "        text-align: right;\n",
       "    }\n",
       "</style>\n",
       "<table border=\"1\" class=\"dataframe\">\n",
       "  <thead>\n",
       "    <tr style=\"text-align: right;\">\n",
       "      <th></th>\n",
       "      <th>generation</th>\n",
       "      <th>coin_parity</th>\n",
       "      <th>actual_mobility</th>\n",
       "      <th>potential_mobility</th>\n",
       "      <th>corners_captured</th>\n",
       "      <th>future_corners_captured</th>\n",
       "      <th>static_weights</th>\n",
       "    </tr>\n",
       "  </thead>\n",
       "  <tbody>\n",
       "    <tr>\n",
       "      <th>0</th>\n",
       "      <td>0</td>\n",
       "      <td>0.182098</td>\n",
       "      <td>0.062974</td>\n",
       "      <td>0.240697</td>\n",
       "      <td>0.218641</td>\n",
       "      <td>0.262543</td>\n",
       "      <td>0.033047</td>\n",
       "    </tr>\n",
       "    <tr>\n",
       "      <th>1</th>\n",
       "      <td>0</td>\n",
       "      <td>0.249855</td>\n",
       "      <td>0.245494</td>\n",
       "      <td>0.048333</td>\n",
       "      <td>0.199844</td>\n",
       "      <td>0.030851</td>\n",
       "      <td>0.225623</td>\n",
       "    </tr>\n",
       "    <tr>\n",
       "      <th>2</th>\n",
       "      <td>0</td>\n",
       "      <td>0.050428</td>\n",
       "      <td>0.252647</td>\n",
       "      <td>0.264117</td>\n",
       "      <td>0.074698</td>\n",
       "      <td>0.043990</td>\n",
       "      <td>0.314120</td>\n",
       "    </tr>\n",
       "    <tr>\n",
       "      <th>3</th>\n",
       "      <td>0</td>\n",
       "      <td>0.097445</td>\n",
       "      <td>0.209343</td>\n",
       "      <td>0.092994</td>\n",
       "      <td>0.145216</td>\n",
       "      <td>0.214817</td>\n",
       "      <td>0.240186</td>\n",
       "    </tr>\n",
       "    <tr>\n",
       "      <th>4</th>\n",
       "      <td>0</td>\n",
       "      <td>0.258603</td>\n",
       "      <td>0.269368</td>\n",
       "      <td>0.241279</td>\n",
       "      <td>0.086657</td>\n",
       "      <td>0.073366</td>\n",
       "      <td>0.070727</td>\n",
       "    </tr>\n",
       "  </tbody>\n",
       "</table>\n",
       "</div>"
      ],
      "text/plain": [
       "   generation  coin_parity  actual_mobility  potential_mobility  \\\n",
       "0           0     0.182098         0.062974            0.240697   \n",
       "1           0     0.249855         0.245494            0.048333   \n",
       "2           0     0.050428         0.252647            0.264117   \n",
       "3           0     0.097445         0.209343            0.092994   \n",
       "4           0     0.258603         0.269368            0.241279   \n",
       "\n",
       "   corners_captured  future_corners_captured  static_weights  \n",
       "0          0.218641                 0.262543        0.033047  \n",
       "1          0.199844                 0.030851        0.225623  \n",
       "2          0.074698                 0.043990        0.314120  \n",
       "3          0.145216                 0.214817        0.240186  \n",
       "4          0.086657                 0.073366        0.070727  "
      ]
     },
     "execution_count": 9,
     "metadata": {},
     "output_type": "execute_result"
    }
   ],
   "source": [
    "reshaped_data = evolution_population.reshape(-1, evolution_population.shape[-1])\n",
    "columns=[\"coin_parity\",\n",
    "         \"actual_mobility\",\n",
    "         \"potential_mobility\",\n",
    "         \"corners_captured\",\n",
    "         \"future_corners_captured\",\n",
    "         \"static_weights\"]\n",
    "\n",
    "df_population = pd.DataFrame(reshaped_data, columns=columns)\n",
    "\n",
    "index = np.repeat(np.arange(evolution_population.shape[0]), evolution_population.shape[1])\n",
    "df_population.insert(0, \"generation\", index)\n",
    "\n",
    "df_population.head()"
   ]
  },
  {
   "cell_type": "code",
   "execution_count": 10,
   "metadata": {},
   "outputs": [],
   "source": [
    "df_population.to_csv(population_path, index=False)\n",
    "df_fitnesses.to_csv(fitnesses_path, index=False)"
   ]
  },
  {
   "cell_type": "markdown",
   "metadata": {},
   "source": [
    "### Visualization"
   ]
  },
  {
   "cell_type": "markdown",
   "metadata": {},
   "source": [
    "#### Directories"
   ]
  },
  {
   "cell_type": "code",
   "execution_count": 11,
   "metadata": {},
   "outputs": [],
   "source": [
    "population_path = '../data/genetic_population_evolution.csv'\n",
    "fitnesses_path = '../data/genetic_fitnesses_evolution.csv'"
   ]
  },
  {
   "cell_type": "markdown",
   "metadata": {},
   "source": [
    "#### Load save data"
   ]
  },
  {
   "cell_type": "code",
   "execution_count": 12,
   "metadata": {},
   "outputs": [
    {
     "data": {
      "text/html": [
       "<div>\n",
       "<style scoped>\n",
       "    .dataframe tbody tr th:only-of-type {\n",
       "        vertical-align: middle;\n",
       "    }\n",
       "\n",
       "    .dataframe tbody tr th {\n",
       "        vertical-align: top;\n",
       "    }\n",
       "\n",
       "    .dataframe thead th {\n",
       "        text-align: right;\n",
       "    }\n",
       "</style>\n",
       "<table border=\"1\" class=\"dataframe\">\n",
       "  <thead>\n",
       "    <tr style=\"text-align: right;\">\n",
       "      <th></th>\n",
       "      <th>generation</th>\n",
       "      <th>coin_parity</th>\n",
       "      <th>actual_mobility</th>\n",
       "      <th>potential_mobility</th>\n",
       "      <th>corners_captured</th>\n",
       "      <th>future_corners_captured</th>\n",
       "      <th>static_weights</th>\n",
       "    </tr>\n",
       "  </thead>\n",
       "  <tbody>\n",
       "    <tr>\n",
       "      <th>0</th>\n",
       "      <td>0</td>\n",
       "      <td>0.182098</td>\n",
       "      <td>0.062974</td>\n",
       "      <td>0.240697</td>\n",
       "      <td>0.218641</td>\n",
       "      <td>0.262543</td>\n",
       "      <td>0.033047</td>\n",
       "    </tr>\n",
       "    <tr>\n",
       "      <th>1</th>\n",
       "      <td>0</td>\n",
       "      <td>0.249855</td>\n",
       "      <td>0.245494</td>\n",
       "      <td>0.048333</td>\n",
       "      <td>0.199844</td>\n",
       "      <td>0.030851</td>\n",
       "      <td>0.225623</td>\n",
       "    </tr>\n",
       "    <tr>\n",
       "      <th>2</th>\n",
       "      <td>0</td>\n",
       "      <td>0.050428</td>\n",
       "      <td>0.252647</td>\n",
       "      <td>0.264117</td>\n",
       "      <td>0.074698</td>\n",
       "      <td>0.043990</td>\n",
       "      <td>0.314120</td>\n",
       "    </tr>\n",
       "    <tr>\n",
       "      <th>3</th>\n",
       "      <td>0</td>\n",
       "      <td>0.097445</td>\n",
       "      <td>0.209343</td>\n",
       "      <td>0.092994</td>\n",
       "      <td>0.145216</td>\n",
       "      <td>0.214817</td>\n",
       "      <td>0.240186</td>\n",
       "    </tr>\n",
       "    <tr>\n",
       "      <th>4</th>\n",
       "      <td>0</td>\n",
       "      <td>0.258603</td>\n",
       "      <td>0.269368</td>\n",
       "      <td>0.241279</td>\n",
       "      <td>0.086657</td>\n",
       "      <td>0.073366</td>\n",
       "      <td>0.070727</td>\n",
       "    </tr>\n",
       "  </tbody>\n",
       "</table>\n",
       "</div>"
      ],
      "text/plain": [
       "   generation  coin_parity  actual_mobility  potential_mobility  \\\n",
       "0           0     0.182098         0.062974            0.240697   \n",
       "1           0     0.249855         0.245494            0.048333   \n",
       "2           0     0.050428         0.252647            0.264117   \n",
       "3           0     0.097445         0.209343            0.092994   \n",
       "4           0     0.258603         0.269368            0.241279   \n",
       "\n",
       "   corners_captured  future_corners_captured  static_weights  \n",
       "0          0.218641                 0.262543        0.033047  \n",
       "1          0.199844                 0.030851        0.225623  \n",
       "2          0.074698                 0.043990        0.314120  \n",
       "3          0.145216                 0.214817        0.240186  \n",
       "4          0.086657                 0.073366        0.070727  "
      ]
     },
     "execution_count": 12,
     "metadata": {},
     "output_type": "execute_result"
    }
   ],
   "source": [
    "df_population = pd.read_csv(population_path)\n",
    "df_population.head()"
   ]
  },
  {
   "cell_type": "code",
   "execution_count": 13,
   "metadata": {},
   "outputs": [
    {
     "data": {
      "text/html": [
       "<div>\n",
       "<style scoped>\n",
       "    .dataframe tbody tr th:only-of-type {\n",
       "        vertical-align: middle;\n",
       "    }\n",
       "\n",
       "    .dataframe tbody tr th {\n",
       "        vertical-align: top;\n",
       "    }\n",
       "\n",
       "    .dataframe thead th {\n",
       "        text-align: right;\n",
       "    }\n",
       "</style>\n",
       "<table border=\"1\" class=\"dataframe\">\n",
       "  <thead>\n",
       "    <tr style=\"text-align: right;\">\n",
       "      <th></th>\n",
       "      <th>generation</th>\n",
       "      <th>chromosome_0</th>\n",
       "      <th>chromosome_1</th>\n",
       "      <th>chromosome_2</th>\n",
       "      <th>chromosome_3</th>\n",
       "      <th>chromosome_4</th>\n",
       "      <th>chromosome_5</th>\n",
       "    </tr>\n",
       "  </thead>\n",
       "  <tbody>\n",
       "    <tr>\n",
       "      <th>0</th>\n",
       "      <td>0</td>\n",
       "      <td>-4</td>\n",
       "      <td>-4</td>\n",
       "      <td>8</td>\n",
       "      <td>-4</td>\n",
       "      <td>-4</td>\n",
       "      <td>8</td>\n",
       "    </tr>\n",
       "    <tr>\n",
       "      <th>1</th>\n",
       "      <td>1</td>\n",
       "      <td>4</td>\n",
       "      <td>4</td>\n",
       "      <td>-8</td>\n",
       "      <td>4</td>\n",
       "      <td>4</td>\n",
       "      <td>-8</td>\n",
       "    </tr>\n",
       "    <tr>\n",
       "      <th>2</th>\n",
       "      <td>2</td>\n",
       "      <td>2</td>\n",
       "      <td>2</td>\n",
       "      <td>2</td>\n",
       "      <td>2</td>\n",
       "      <td>-10</td>\n",
       "      <td>2</td>\n",
       "    </tr>\n",
       "    <tr>\n",
       "      <th>3</th>\n",
       "      <td>3</td>\n",
       "      <td>6</td>\n",
       "      <td>6</td>\n",
       "      <td>6</td>\n",
       "      <td>-6</td>\n",
       "      <td>-6</td>\n",
       "      <td>-6</td>\n",
       "    </tr>\n",
       "    <tr>\n",
       "      <th>4</th>\n",
       "      <td>4</td>\n",
       "      <td>0</td>\n",
       "      <td>0</td>\n",
       "      <td>0</td>\n",
       "      <td>0</td>\n",
       "      <td>0</td>\n",
       "      <td>0</td>\n",
       "    </tr>\n",
       "  </tbody>\n",
       "</table>\n",
       "</div>"
      ],
      "text/plain": [
       "   generation  chromosome_0  chromosome_1  chromosome_2  chromosome_3  \\\n",
       "0           0            -4            -4             8            -4   \n",
       "1           1             4             4            -8             4   \n",
       "2           2             2             2             2             2   \n",
       "3           3             6             6             6            -6   \n",
       "4           4             0             0             0             0   \n",
       "\n",
       "   chromosome_4  chromosome_5  \n",
       "0            -4             8  \n",
       "1             4            -8  \n",
       "2           -10             2  \n",
       "3            -6            -6  \n",
       "4             0             0  "
      ]
     },
     "execution_count": 13,
     "metadata": {},
     "output_type": "execute_result"
    }
   ],
   "source": [
    "df_fitnesses = pd.read_csv(fitnesses_path,)\n",
    "df_fitnesses.head()"
   ]
  },
  {
   "cell_type": "markdown",
   "metadata": {},
   "source": [
    "#### Fitness evolution"
   ]
  },
  {
   "cell_type": "code",
   "execution_count": 19,
   "metadata": {},
   "outputs": [
    {
     "data": {
      "text/html": [
       "<div>\n",
       "<style scoped>\n",
       "    .dataframe tbody tr th:only-of-type {\n",
       "        vertical-align: middle;\n",
       "    }\n",
       "\n",
       "    .dataframe tbody tr th {\n",
       "        vertical-align: top;\n",
       "    }\n",
       "\n",
       "    .dataframe thead th {\n",
       "        text-align: right;\n",
       "    }\n",
       "</style>\n",
       "<table border=\"1\" class=\"dataframe\">\n",
       "  <thead>\n",
       "    <tr style=\"text-align: right;\">\n",
       "      <th></th>\n",
       "      <th>generation</th>\n",
       "      <th>measure</th>\n",
       "      <th>fitness</th>\n",
       "    </tr>\n",
       "  </thead>\n",
       "  <tbody>\n",
       "    <tr>\n",
       "      <th>0</th>\n",
       "      <td>0</td>\n",
       "      <td>max</td>\n",
       "      <td>8</td>\n",
       "    </tr>\n",
       "    <tr>\n",
       "      <th>1</th>\n",
       "      <td>1</td>\n",
       "      <td>max</td>\n",
       "      <td>4</td>\n",
       "    </tr>\n",
       "    <tr>\n",
       "      <th>2</th>\n",
       "      <td>2</td>\n",
       "      <td>max</td>\n",
       "      <td>2</td>\n",
       "    </tr>\n",
       "    <tr>\n",
       "      <th>3</th>\n",
       "      <td>3</td>\n",
       "      <td>max</td>\n",
       "      <td>6</td>\n",
       "    </tr>\n",
       "    <tr>\n",
       "      <th>4</th>\n",
       "      <td>4</td>\n",
       "      <td>max</td>\n",
       "      <td>0</td>\n",
       "    </tr>\n",
       "  </tbody>\n",
       "</table>\n",
       "</div>"
      ],
      "text/plain": [
       "   generation measure  fitness\n",
       "0           0     max        8\n",
       "1           1     max        4\n",
       "2           2     max        2\n",
       "3           3     max        6\n",
       "4           4     max        0"
      ]
     },
     "execution_count": 19,
     "metadata": {},
     "output_type": "execute_result"
    }
   ],
   "source": [
    "fitness_max = df_fitnesses.iloc[:, 1:].max(axis=1)\n",
    "fitness_min = df_fitnesses.iloc[:, 1:].min(axis=1)\n",
    "\n",
    "data = pd.concat([fitness_max, fitness_min], axis=1)\n",
    "data.columns = [\"max\", \"min\"]\n",
    "data.insert(0, \"generation\", df_fitnesses[\"generation\"])\n",
    "\n",
    "data_melted = data.melt(id_vars=\"generation\", var_name=\"measure\", value_name='fitness')\n",
    "\n",
    "data_melted.head()"
   ]
  },
  {
   "cell_type": "code",
   "execution_count": 20,
   "metadata": {},
   "outputs": [
    {
     "data": {
      "image/png": "[encoded data removed]",
      "text/plain": [
       "<Figure size 720x432 with 1 Axes>"
      ]
     },
     "metadata": {},
     "output_type": "display_data"
    }
   ],
   "source": [
    "sns.pointplot(data_melted, x=\"generation\", y=\"fitness\", hue=\"measure\")\n",
    "_ = plt.title(\"Evolution of fitness\")"
   ]
  },
  {
   "cell_type": "markdown",
   "metadata": {},
   "source": [
    "#### Population evolution"
   ]
  },
  {
   "cell_type": "code",
   "execution_count": 16,
   "metadata": {},
   "outputs": [
    {
     "data": {
      "text/html": [
       "<div>\n",
       "<style scoped>\n",
       "    .dataframe tbody tr th:only-of-type {\n",
       "        vertical-align: middle;\n",
       "    }\n",
       "\n",
       "    .dataframe tbody tr th {\n",
       "        vertical-align: top;\n",
       "    }\n",
       "\n",
       "    .dataframe thead th {\n",
       "        text-align: right;\n",
       "    }\n",
       "</style>\n",
       "<table border=\"1\" class=\"dataframe\">\n",
       "  <thead>\n",
       "    <tr style=\"text-align: right;\">\n",
       "      <th></th>\n",
       "      <th>generation</th>\n",
       "      <th>coin_parity</th>\n",
       "      <th>actual_mobility</th>\n",
       "      <th>potential_mobility</th>\n",
       "      <th>corners_captured</th>\n",
       "      <th>future_corners_captured</th>\n",
       "      <th>static_weights</th>\n",
       "    </tr>\n",
       "  </thead>\n",
       "  <tbody>\n",
       "    <tr>\n",
       "      <th>0</th>\n",
       "      <td>0</td>\n",
       "      <td>0.050428</td>\n",
       "      <td>0.252647</td>\n",
       "      <td>0.264117</td>\n",
       "      <td>0.074698</td>\n",
       "      <td>0.043990</td>\n",
       "      <td>0.314120</td>\n",
       "    </tr>\n",
       "    <tr>\n",
       "      <th>1</th>\n",
       "      <td>1</td>\n",
       "      <td>0.165951</td>\n",
       "      <td>0.066301</td>\n",
       "      <td>0.271378</td>\n",
       "      <td>0.269016</td>\n",
       "      <td>0.118892</td>\n",
       "      <td>0.108463</td>\n",
       "    </tr>\n",
       "    <tr>\n",
       "      <th>2</th>\n",
       "      <td>2</td>\n",
       "      <td>0.167284</td>\n",
       "      <td>0.254678</td>\n",
       "      <td>0.273558</td>\n",
       "      <td>0.075298</td>\n",
       "      <td>0.119847</td>\n",
       "      <td>0.109335</td>\n",
       "    </tr>\n",
       "    <tr>\n",
       "      <th>3</th>\n",
       "      <td>3</td>\n",
       "      <td>0.257721</td>\n",
       "      <td>0.089126</td>\n",
       "      <td>0.340655</td>\n",
       "      <td>0.105719</td>\n",
       "      <td>0.108132</td>\n",
       "      <td>0.098647</td>\n",
       "    </tr>\n",
       "    <tr>\n",
       "      <th>4</th>\n",
       "      <td>4</td>\n",
       "      <td>0.181781</td>\n",
       "      <td>0.096850</td>\n",
       "      <td>0.370176</td>\n",
       "      <td>0.114881</td>\n",
       "      <td>0.117503</td>\n",
       "      <td>0.118810</td>\n",
       "    </tr>\n",
       "  </tbody>\n",
       "</table>\n",
       "</div>"
      ],
      "text/plain": [
       "   generation  coin_parity  actual_mobility  potential_mobility  \\\n",
       "0           0     0.050428         0.252647            0.264117   \n",
       "1           1     0.165951         0.066301            0.271378   \n",
       "2           2     0.167284         0.254678            0.273558   \n",
       "3           3     0.257721         0.089126            0.340655   \n",
       "4           4     0.181781         0.096850            0.370176   \n",
       "\n",
       "   corners_captured  future_corners_captured  static_weights  \n",
       "0          0.074698                 0.043990        0.314120  \n",
       "1          0.269016                 0.118892        0.108463  \n",
       "2          0.075298                 0.119847        0.109335  \n",
       "3          0.105719                 0.108132        0.098647  \n",
       "4          0.114881                 0.117503        0.118810  "
      ]
     },
     "execution_count": 16,
     "metadata": {},
     "output_type": "execute_result"
    }
   ],
   "source": [
    "max_fitness_index_per_generation = np.array([np.argmax(f) for f in evolution_fitnesses])\n",
    "df_best_chromosomes = df_population.groupby(\"generation\").apply(lambda x: x.iloc[max_fitness_index_per_generation[x.name]])\n",
    "\n",
    "df_best_chromosomes.reset_index(drop=True, inplace=True)\n",
    "df_best_chromosomes[\"generation\"] = df_best_chromosomes.index\n",
    "\n",
    "df_best_chromosomes.head()"
   ]
  },
  {
   "cell_type": "code",
   "execution_count": 17,
   "metadata": {},
   "outputs": [
    {
     "data": {
      "text/html": [
       "<div>\n",
       "<style scoped>\n",
       "    .dataframe tbody tr th:only-of-type {\n",
       "        vertical-align: middle;\n",
       "    }\n",
       "\n",
       "    .dataframe tbody tr th {\n",
       "        vertical-align: top;\n",
       "    }\n",
       "\n",
       "    .dataframe thead th {\n",
       "        text-align: right;\n",
       "    }\n",
       "</style>\n",
       "<table border=\"1\" class=\"dataframe\">\n",
       "  <thead>\n",
       "    <tr style=\"text-align: right;\">\n",
       "      <th></th>\n",
       "      <th>generation</th>\n",
       "      <th>component</th>\n",
       "      <th>proportion</th>\n",
       "    </tr>\n",
       "  </thead>\n",
       "  <tbody>\n",
       "    <tr>\n",
       "      <th>0</th>\n",
       "      <td>0</td>\n",
       "      <td>coin_parity</td>\n",
       "      <td>0.050428</td>\n",
       "    </tr>\n",
       "    <tr>\n",
       "      <th>1</th>\n",
       "      <td>1</td>\n",
       "      <td>coin_parity</td>\n",
       "      <td>0.165951</td>\n",
       "    </tr>\n",
       "    <tr>\n",
       "      <th>2</th>\n",
       "      <td>2</td>\n",
       "      <td>coin_parity</td>\n",
       "      <td>0.167284</td>\n",
       "    </tr>\n",
       "    <tr>\n",
       "      <th>3</th>\n",
       "      <td>3</td>\n",
       "      <td>coin_parity</td>\n",
       "      <td>0.257721</td>\n",
       "    </tr>\n",
       "    <tr>\n",
       "      <th>4</th>\n",
       "      <td>4</td>\n",
       "      <td>coin_parity</td>\n",
       "      <td>0.181781</td>\n",
       "    </tr>\n",
       "  </tbody>\n",
       "</table>\n",
       "</div>"
      ],
      "text/plain": [
       "   generation    component  proportion\n",
       "0           0  coin_parity    0.050428\n",
       "1           1  coin_parity    0.165951\n",
       "2           2  coin_parity    0.167284\n",
       "3           3  coin_parity    0.257721\n",
       "4           4  coin_parity    0.181781"
      ]
     },
     "execution_count": 17,
     "metadata": {},
     "output_type": "execute_result"
    }
   ],
   "source": [
    "data_melted = df_best_chromosomes.melt(id_vars=\"generation\", var_name=\"component\", value_name='proportion')\n",
    "\n",
    "data_melted.head()"
   ]
  },
  {
   "cell_type": "code",
   "execution_count": 18,
   "metadata": {},
   "outputs": [
    {
     "data": {
      "image/png": "[encoded data removed]",
      "text/plain": [
       "<seaborn._core.plot.Plot at 0x7f8c70243c40>"
      ]
     },
     "execution_count": 18,
     "metadata": {
      "image/png": {
       "height": 378.25,
       "width": 716.975
      }
     },
     "output_type": "execute_result"
    }
   ],
   "source": [
    "so.Plot(data_melted, x=\"generation\", y=\"proportion\", color=\"component\")\\\n",
    "  .add(so.Area(alpha=1), so.Stack())\\\n",
    "  .label(title=\"Evolution of static evaluation component proportions\")"
   ]
  },
  {
   "cell_type": "markdown",
   "metadata": {},
   "source": [
    "### Save best chromosome"
   ]
  },
  {
   "cell_type": "markdown",
   "metadata": {},
   "source": [
    "#### Directories"
   ]
  },
  {
   "cell_type": "code",
   "execution_count": 63,
   "metadata": {},
   "outputs": [],
   "source": [
    "population_path = '../data/genetic_population_evolution.csv'\n",
    "fitnesses_path = '../data/genetic_fitnesses_evolution.csv'\n",
    "best_chromosome_path = '../data/genetic_best_chromosome.txt'"
   ]
  },
  {
   "cell_type": "markdown",
   "metadata": {},
   "source": [
    "#### Save to txt"
   ]
  },
  {
   "cell_type": "code",
   "execution_count": 27,
   "metadata": {},
   "outputs": [
    {
     "data": {
      "text/html": [
       "<div>\n",
       "<style scoped>\n",
       "    .dataframe tbody tr th:only-of-type {\n",
       "        vertical-align: middle;\n",
       "    }\n",
       "\n",
       "    .dataframe tbody tr th {\n",
       "        vertical-align: top;\n",
       "    }\n",
       "\n",
       "    .dataframe thead th {\n",
       "        text-align: right;\n",
       "    }\n",
       "</style>\n",
       "<table border=\"1\" class=\"dataframe\">\n",
       "  <thead>\n",
       "    <tr style=\"text-align: right;\">\n",
       "      <th></th>\n",
       "      <th>generation</th>\n",
       "      <th>coin_parity</th>\n",
       "      <th>actual_mobility</th>\n",
       "      <th>potential_mobility</th>\n",
       "      <th>corners_captured</th>\n",
       "      <th>future_corners_captured</th>\n",
       "      <th>static_weights</th>\n",
       "    </tr>\n",
       "  </thead>\n",
       "  <tbody>\n",
       "    <tr>\n",
       "      <th>55</th>\n",
       "      <td>9</td>\n",
       "      <td>0.181781</td>\n",
       "      <td>0.09685</td>\n",
       "      <td>0.370176</td>\n",
       "      <td>0.114881</td>\n",
       "      <td>0.117503</td>\n",
       "      <td>0.11881</td>\n",
       "    </tr>\n",
       "    <tr>\n",
       "      <th>56</th>\n",
       "      <td>9</td>\n",
       "      <td>0.181781</td>\n",
       "      <td>0.09685</td>\n",
       "      <td>0.370176</td>\n",
       "      <td>0.114881</td>\n",
       "      <td>0.117503</td>\n",
       "      <td>0.11881</td>\n",
       "    </tr>\n",
       "    <tr>\n",
       "      <th>57</th>\n",
       "      <td>9</td>\n",
       "      <td>0.181781</td>\n",
       "      <td>0.09685</td>\n",
       "      <td>0.370176</td>\n",
       "      <td>0.114881</td>\n",
       "      <td>0.117503</td>\n",
       "      <td>0.11881</td>\n",
       "    </tr>\n",
       "    <tr>\n",
       "      <th>58</th>\n",
       "      <td>9</td>\n",
       "      <td>0.181781</td>\n",
       "      <td>0.09685</td>\n",
       "      <td>0.370176</td>\n",
       "      <td>0.114881</td>\n",
       "      <td>0.117503</td>\n",
       "      <td>0.11881</td>\n",
       "    </tr>\n",
       "    <tr>\n",
       "      <th>59</th>\n",
       "      <td>9</td>\n",
       "      <td>0.181781</td>\n",
       "      <td>0.09685</td>\n",
       "      <td>0.370176</td>\n",
       "      <td>0.114881</td>\n",
       "      <td>0.117503</td>\n",
       "      <td>0.11881</td>\n",
       "    </tr>\n",
       "  </tbody>\n",
       "</table>\n",
       "</div>"
      ],
      "text/plain": [
       "    generation  coin_parity  actual_mobility  potential_mobility  \\\n",
       "55           9     0.181781          0.09685            0.370176   \n",
       "56           9     0.181781          0.09685            0.370176   \n",
       "57           9     0.181781          0.09685            0.370176   \n",
       "58           9     0.181781          0.09685            0.370176   \n",
       "59           9     0.181781          0.09685            0.370176   \n",
       "\n",
       "    corners_captured  future_corners_captured  static_weights  \n",
       "55          0.114881                 0.117503         0.11881  \n",
       "56          0.114881                 0.117503         0.11881  \n",
       "57          0.114881                 0.117503         0.11881  \n",
       "58          0.114881                 0.117503         0.11881  \n",
       "59          0.114881                 0.117503         0.11881  "
      ]
     },
     "execution_count": 27,
     "metadata": {},
     "output_type": "execute_result"
    }
   ],
   "source": [
    "df_population = pd.read_csv(population_path)\n",
    "df_population.tail()"
   ]
  },
  {
   "cell_type": "code",
   "execution_count": 26,
   "metadata": {},
   "outputs": [
    {
     "data": {
      "text/html": [
       "<div>\n",
       "<style scoped>\n",
       "    .dataframe tbody tr th:only-of-type {\n",
       "        vertical-align: middle;\n",
       "    }\n",
       "\n",
       "    .dataframe tbody tr th {\n",
       "        vertical-align: top;\n",
       "    }\n",
       "\n",
       "    .dataframe thead th {\n",
       "        text-align: right;\n",
       "    }\n",
       "</style>\n",
       "<table border=\"1\" class=\"dataframe\">\n",
       "  <thead>\n",
       "    <tr style=\"text-align: right;\">\n",
       "      <th></th>\n",
       "      <th>generation</th>\n",
       "      <th>chromosome_0</th>\n",
       "      <th>chromosome_1</th>\n",
       "      <th>chromosome_2</th>\n",
       "      <th>chromosome_3</th>\n",
       "      <th>chromosome_4</th>\n",
       "      <th>chromosome_5</th>\n",
       "    </tr>\n",
       "  </thead>\n",
       "  <tbody>\n",
       "    <tr>\n",
       "      <th>5</th>\n",
       "      <td>5</td>\n",
       "      <td>0</td>\n",
       "      <td>0</td>\n",
       "      <td>0</td>\n",
       "      <td>0</td>\n",
       "      <td>0</td>\n",
       "      <td>0</td>\n",
       "    </tr>\n",
       "    <tr>\n",
       "      <th>6</th>\n",
       "      <td>6</td>\n",
       "      <td>8</td>\n",
       "      <td>8</td>\n",
       "      <td>-4</td>\n",
       "      <td>-4</td>\n",
       "      <td>-4</td>\n",
       "      <td>-4</td>\n",
       "    </tr>\n",
       "    <tr>\n",
       "      <th>7</th>\n",
       "      <td>7</td>\n",
       "      <td>4</td>\n",
       "      <td>4</td>\n",
       "      <td>-8</td>\n",
       "      <td>-8</td>\n",
       "      <td>4</td>\n",
       "      <td>4</td>\n",
       "    </tr>\n",
       "    <tr>\n",
       "      <th>8</th>\n",
       "      <td>8</td>\n",
       "      <td>0</td>\n",
       "      <td>0</td>\n",
       "      <td>0</td>\n",
       "      <td>0</td>\n",
       "      <td>0</td>\n",
       "      <td>0</td>\n",
       "    </tr>\n",
       "    <tr>\n",
       "      <th>9</th>\n",
       "      <td>9</td>\n",
       "      <td>0</td>\n",
       "      <td>0</td>\n",
       "      <td>0</td>\n",
       "      <td>0</td>\n",
       "      <td>0</td>\n",
       "      <td>0</td>\n",
       "    </tr>\n",
       "  </tbody>\n",
       "</table>\n",
       "</div>"
      ],
      "text/plain": [
       "   generation  chromosome_0  chromosome_1  chromosome_2  chromosome_3  \\\n",
       "5           5             0             0             0             0   \n",
       "6           6             8             8            -4            -4   \n",
       "7           7             4             4            -8            -8   \n",
       "8           8             0             0             0             0   \n",
       "9           9             0             0             0             0   \n",
       "\n",
       "   chromosome_4  chromosome_5  \n",
       "5             0             0  \n",
       "6            -4            -4  \n",
       "7             4             4  \n",
       "8             0             0  \n",
       "9             0             0  "
      ]
     },
     "execution_count": 26,
     "metadata": {},
     "output_type": "execute_result"
    }
   ],
   "source": [
    "df_fitnesses = pd.read_csv(fitnesses_path)\n",
    "df_fitnesses.tail()"
   ]
  },
  {
   "cell_type": "code",
   "execution_count": 56,
   "metadata": {},
   "outputs": [
    {
     "name": "stderr",
     "output_type": "stream",
     "text": [
      "/tmp/ipykernel_136472/2938237407.py:4: SettingWithCopyWarning: \n",
      "A value is trying to be set on a copy of a slice from a DataFrame.\n",
      "Try using .loc[row_indexer,col_indexer] = value instead\n",
      "\n",
      "See the caveats in the documentation: https://pandas.pydata.org/pandas-docs/stable/user_guide/indexing.html#returning-a-view-versus-a-copy\n",
      "  last_generation[\"fitness\"] = df_fitnesses[df_fitnesses[\"generation\"] == last_generation_number].values[0][1:]\n"
     ]
    },
    {
     "data": {
      "text/html": [
       "<div>\n",
       "<style scoped>\n",
       "    .dataframe tbody tr th:only-of-type {\n",
       "        vertical-align: middle;\n",
       "    }\n",
       "\n",
       "    .dataframe tbody tr th {\n",
       "        vertical-align: top;\n",
       "    }\n",
       "\n",
       "    .dataframe thead th {\n",
       "        text-align: right;\n",
       "    }\n",
       "</style>\n",
       "<table border=\"1\" class=\"dataframe\">\n",
       "  <thead>\n",
       "    <tr style=\"text-align: right;\">\n",
       "      <th></th>\n",
       "      <th>generation</th>\n",
       "      <th>coin_parity</th>\n",
       "      <th>actual_mobility</th>\n",
       "      <th>potential_mobility</th>\n",
       "      <th>corners_captured</th>\n",
       "      <th>future_corners_captured</th>\n",
       "      <th>static_weights</th>\n",
       "      <th>fitness</th>\n",
       "    </tr>\n",
       "  </thead>\n",
       "  <tbody>\n",
       "    <tr>\n",
       "      <th>54</th>\n",
       "      <td>9</td>\n",
       "      <td>0.181781</td>\n",
       "      <td>0.09685</td>\n",
       "      <td>0.370176</td>\n",
       "      <td>0.114881</td>\n",
       "      <td>0.117503</td>\n",
       "      <td>0.11881</td>\n",
       "      <td>0</td>\n",
       "    </tr>\n",
       "    <tr>\n",
       "      <th>55</th>\n",
       "      <td>9</td>\n",
       "      <td>0.181781</td>\n",
       "      <td>0.09685</td>\n",
       "      <td>0.370176</td>\n",
       "      <td>0.114881</td>\n",
       "      <td>0.117503</td>\n",
       "      <td>0.11881</td>\n",
       "      <td>0</td>\n",
       "    </tr>\n",
       "    <tr>\n",
       "      <th>56</th>\n",
       "      <td>9</td>\n",
       "      <td>0.181781</td>\n",
       "      <td>0.09685</td>\n",
       "      <td>0.370176</td>\n",
       "      <td>0.114881</td>\n",
       "      <td>0.117503</td>\n",
       "      <td>0.11881</td>\n",
       "      <td>0</td>\n",
       "    </tr>\n",
       "    <tr>\n",
       "      <th>57</th>\n",
       "      <td>9</td>\n",
       "      <td>0.181781</td>\n",
       "      <td>0.09685</td>\n",
       "      <td>0.370176</td>\n",
       "      <td>0.114881</td>\n",
       "      <td>0.117503</td>\n",
       "      <td>0.11881</td>\n",
       "      <td>0</td>\n",
       "    </tr>\n",
       "    <tr>\n",
       "      <th>58</th>\n",
       "      <td>9</td>\n",
       "      <td>0.181781</td>\n",
       "      <td>0.09685</td>\n",
       "      <td>0.370176</td>\n",
       "      <td>0.114881</td>\n",
       "      <td>0.117503</td>\n",
       "      <td>0.11881</td>\n",
       "      <td>0</td>\n",
       "    </tr>\n",
       "  </tbody>\n",
       "</table>\n",
       "</div>"
      ],
      "text/plain": [
       "    generation  coin_parity  actual_mobility  potential_mobility  \\\n",
       "54           9     0.181781          0.09685            0.370176   \n",
       "55           9     0.181781          0.09685            0.370176   \n",
       "56           9     0.181781          0.09685            0.370176   \n",
       "57           9     0.181781          0.09685            0.370176   \n",
       "58           9     0.181781          0.09685            0.370176   \n",
       "\n",
       "    corners_captured  future_corners_captured  static_weights  fitness  \n",
       "54          0.114881                 0.117503         0.11881        0  \n",
       "55          0.114881                 0.117503         0.11881        0  \n",
       "56          0.114881                 0.117503         0.11881        0  \n",
       "57          0.114881                 0.117503         0.11881        0  \n",
       "58          0.114881                 0.117503         0.11881        0  "
      ]
     },
     "execution_count": 56,
     "metadata": {},
     "output_type": "execute_result"
    }
   ],
   "source": [
    "last_generation_number = df_fitnesses[\"generation\"].values[-1]\n",
    "\n",
    "last_generation = df_population[df_population[\"generation\"] == last_generation_number]\n",
    "last_generation[\"fitness\"] = df_fitnesses[df_fitnesses[\"generation\"] == last_generation_number].values[0][1:]\n",
    "\n",
    "last_generation.head()"
   ]
  },
  {
   "cell_type": "code",
   "execution_count": 61,
   "metadata": {},
   "outputs": [
    {
     "data": {
      "text/plain": [
       "array([0.18178101, 0.09684959, 0.3701763 , 0.11488076, 0.11750276,\n",
       "       0.1188096 ])"
      ]
     },
     "execution_count": 61,
     "metadata": {},
     "output_type": "execute_result"
    }
   ],
   "source": [
    "best_fitness_index = np.argmax(last_generation[\"fitness\"].values)\n",
    "best_chromosome = last_generation.values[best_fitness_index][1:-1]\n",
    "\n",
    "best_chromosome"
   ]
  },
  {
   "cell_type": "code",
   "execution_count": 67,
   "metadata": {},
   "outputs": [],
   "source": [
    "np.savetxt(best_chromosome_path, best_chromosome)"
   ]
  }
 ],
 "metadata": {
  "kernelspec": {
   "display_name": "Python 3",
   "language": "python",
   "name": "python3"
  },
  "language_info": {
   "codemirror_mode": {
    "name": "ipython",
    "version": 3
   },
   "file_extension": ".py",
   "mimetype": "text/x-python",
   "name": "python",
   "nbconvert_exporter": "python",
   "pygments_lexer": "ipython3",
   "version": "3.10.9"
  }
 },
 "nbformat": 4,
 "nbformat_minor": 2
}
