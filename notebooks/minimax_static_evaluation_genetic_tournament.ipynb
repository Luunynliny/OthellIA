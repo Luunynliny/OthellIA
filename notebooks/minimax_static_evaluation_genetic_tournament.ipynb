{
 "cells": [
  {
   "cell_type": "markdown",
   "metadata": {},
   "source": [
    "# Genetic tournament to determine minimax static evaluation component weights"
   ]
  },
  {
   "cell_type": "markdown",
   "metadata": {},
   "source": [
    "## Problematic"
   ]
  },
  {
   "cell_type": "markdown",
   "metadata": {},
   "source": [
    "The `evaluate()` function from the `StaticEvaluation` class, used within the `minimax()` function, returns the evaluation of a board position based on six components :\n",
    "\n",
    "- `coin_parity()`\n",
    "- `actual_mobility()`\n",
    "- `potential_mobility()`\n",
    "- `corners_captured(game)`\n",
    "- `future_corners_captured()`\n",
    "- `static_weights()`\n",
    "\n",
    "The remaining question is : **how to balance each component to produce the most effective algorithm to play Othello?**\n",
    "\n",
    "To answer this question, we can create a **genetic tournament** where different versions of the `evaluate()` function (with different component weights) will evolve and compete against each other until we find the most effective for a given number of iterations."
   ]
  },
  {
   "cell_type": "markdown",
   "metadata": {},
   "source": [
    "## Genetic tournament"
   ]
  },
  {
   "cell_type": "markdown",
   "metadata": {},
   "source": [
    "The general algorithm of a genetic algorithm is the following :\n",
    "\n",
    "1. Randomly initialize a population of $N_{chromosomes}$ **chromosomes**\n",
    "2. Repeat for $N_{generations}$ generations\n",
    "    1. Determine the **fitness** of each chromosome\n",
    "    2. Create an **elitism** by keeping the chromosomes with the highest fitness\n",
    "    3. Randomly select parents based on their fitness\n",
    "    4. Generate offspring by **crossover**\n",
    "    5. Perform **mutation** on the offspring\n",
    "    6. Merge the elite chromosomes and the offspring to create the next population"
   ]
  },
  {
   "cell_type": "markdown",
   "metadata": {},
   "source": [
    "### Chromosome"
   ]
  },
  {
   "cell_type": "markdown",
   "metadata": {},
   "source": [
    "A **chromosome** will be a list of numbers (called genes) representing the balance between all the different components.\n",
    "\n",
    "`c = (0.1, 0.2, 0.4, 0.05, 0.25)`\n",
    "\n",
    "The sum of all the numbers will add up to 1, as they each represent a proportion of the global evaluation."
   ]
  },
  {
   "cell_type": "markdown",
   "metadata": {},
   "source": [
    "### Fitness"
   ]
  },
  {
   "cell_type": "markdown",
   "metadata": {},
   "source": [
    "The **fitness** of a chromosome will represent how strong the component's balance is at playing Othello.\n",
    "\n",
    "This strongness will be measured by making each pair of chromosomes in a given population play against each other with a $D_{fitness}$ depth of search, once as black and once as white, and counting the ratio of win-loss."
   ]
  },
  {
   "cell_type": "markdown",
   "metadata": {},
   "source": [
    "### Elitism"
   ]
  },
  {
   "cell_type": "markdown",
   "metadata": {},
   "source": [
    "To ensure the average fitness of our population is increasing with each generation, we will create an **elitism** by keeping $N_{elites}$ chromosomes with the highest fitness for the next generation."
   ]
  },
  {
   "cell_type": "markdown",
   "metadata": {},
   "source": [
    "### Crossover"
   ]
  },
  {
   "cell_type": "markdown",
   "metadata": {},
   "source": [
    "A **crossover** is a method used to create offspring with parent chromosomes.\n",
    "\n",
    "Among the plethora of crossover methods that exist, we will use **one-point**, **two-point** and **uniform** crossovers."
   ]
  },
  {
   "cell_type": "markdown",
   "metadata": {},
   "source": [
    "#### One-point crossover"
   ]
  },
  {
   "cell_type": "markdown",
   "metadata": {},
   "source": [
    "**One-point crossover** creates two children from two parents' chromosomes by swapping their genes that are before a randomly picked point.\n",
    "\n",
    "```\n",
    "# Parents\n",
    "p1 = (a, b, c, d, e)\n",
    "p2 = (f, g, h, i, j)\n",
    "\n",
    "# One-point crossover at index 1\n",
    "\n",
    "# Children\n",
    "c1 = (f, g, h, d, e)\n",
    "c2 = (a, b, c, i, j)\n",
    "```\n",
    "\n",
    "Due to our balance constraint, we will need to normalize each  new child to ensure the sum of their genes adds up to 1."
   ]
  },
  {
   "cell_type": "markdown",
   "metadata": {},
   "source": [
    "#### Two-point crossover"
   ]
  },
  {
   "cell_type": "markdown",
   "metadata": {},
   "source": [
    "**Two-point crossover** creates two children from two parents' chromosomes by swapping their genes between two distinct, randomly picked points.\n",
    "\n",
    "```\n",
    "# Parents\n",
    "p1 = (a, b, c, d, e)\n",
    "p2 = (f, g, h, i, j)\n",
    "\n",
    "# One-point crossover at index 0 and index 3\n",
    "\n",
    "# Children\n",
    "c1 = (a, g, h, i, e)\n",
    "c2 = (f, b, c, d, j)\n",
    "```\n",
    "\n",
    "Due to our balance constraint, we will need to normalize each  new child to ensure the sum of their genes adds up to 1."
   ]
  },
  {
   "cell_type": "markdown",
   "metadata": {},
   "source": [
    "#### Uniform crossover"
   ]
  },
  {
   "cell_type": "markdown",
   "metadata": {},
   "source": [
    "**Uniform crossover** creates two children from two parents' chromosomes by randomly swapping each parent's corresponding genes with a probability $P_{swap}$.\n",
    "\n",
    "```\n",
    "# Parents\n",
    "p1 = (a, b, c, d, e)\n",
    "p2 = (f, g, h, i, j)\n",
    "\n",
    "# Binary swap mask (0 -> don't swap, 1 -> swap)\n",
    "bm = (0, 1, 1, 0, 1)\n",
    "\n",
    "# Children\n",
    "c1 = (a, b, c, i, j)\n",
    "c2 = (f, g, g, d, e)\n",
    "```\n",
    "\n",
    "Due to our balance constraint, we will need to normalize each new child to ensure the sum of their genes adds up to 1."
   ]
  },
  {
   "cell_type": "markdown",
   "metadata": {},
   "source": [
    "### Mutation"
   ]
  },
  {
   "cell_type": "markdown",
   "metadata": {},
   "source": [
    "**Mutation** is used to create diversity within our population of fresh children by tweaking, with a low $P_{mutate}$ probability, some chromosomes' genes.\n",
    "\n",
    "As for crossover, there are plenty of methods to do it. We will focus our efforts on the **swap**, **scramble** and **inversion** mutations."
   ]
  },
  {
   "cell_type": "markdown",
   "metadata": {},
   "source": [
    "#### Swap mutation"
   ]
  },
  {
   "cell_type": "markdown",
   "metadata": {},
   "source": [
    "The **swap mutation** randomly selects two distinct genes from a chromosome and swaps them.\n",
    "\n",
    "```\n",
    "# Chromosome\n",
    "c1 = (a, b, c, d, e)\n",
    "\n",
    "# Swap genes 0 and 3\n",
    "\n",
    "# Mutation\n",
    "m1 = (d, b, c, a, e)\n",
    "```"
   ]
  },
  {
   "cell_type": "markdown",
   "metadata": {},
   "source": [
    "#### Scramble mutation"
   ]
  },
  {
   "cell_type": "markdown",
   "metadata": {},
   "source": [
    "The **scramble mutation** randomly selects a subsequence of genes from a chromosome and randomly scrambles it.\n",
    "\n",
    "```\n",
    "# Chromosome\n",
    "c1 = (a, b, c, d, e)\n",
    "\n",
    "# Subsequence 0 to 3\n",
    "\n",
    "# Mutation\n",
    "m1 = (b, d, c, a, e)\n",
    "```"
   ]
  },
  {
   "cell_type": "markdown",
   "metadata": {},
   "source": [
    "#### Inversion mutation"
   ]
  },
  {
   "cell_type": "markdown",
   "metadata": {},
   "source": [
    "The **inversion mutation** randomly selects a subsequence of genes from a chromosome and reverses it.\n",
    "\n",
    "```\n",
    "# Chromosome\n",
    "c1 = (a, b, c, d, e)\n",
    "\n",
    "# Subsequence 0 to 3\n",
    "\n",
    "# Mutation\n",
    "m1 = (d, c, b, a, e)\n",
    "```"
   ]
  },
  {
   "cell_type": "markdown",
   "metadata": {},
   "source": [
    "## Implementation"
   ]
  },
  {
   "cell_type": "markdown",
   "metadata": {},
   "source": [
    "### Imports"
   ]
  },
  {
   "cell_type": "code",
   "execution_count": 1,
   "metadata": {},
   "outputs": [],
   "source": [
    "import sys\n",
    "sys.path.append('..')"
   ]
  },
  {
   "cell_type": "code",
   "execution_count": 2,
   "metadata": {},
   "outputs": [],
   "source": [
    "%matplotlib inline\n",
    "\n",
    "import numpy as np\n",
    "import pandas as pd\n",
    "import seaborn as sns\n",
    "\n",
    "from matplotlib import pyplot as plt\n",
    "from seaborn import objects as so\n",
    "from tqdm.notebook import tqdm\n",
    "\n",
    "from genetic.crossover import (\n",
    "    one_point_crossover,\n",
    "    two_point_crossover,\n",
    "    uniform_crossover,\n",
    ")\n",
    "from genetic.fitness import play_tournament\n",
    "from genetic.mutation import inversion, scramble, swap\n",
    "from genetic.population import generate_random_population\n",
    "\n",
    "sns.set(rc={'figure.figsize':(10, 6)})\n",
    "sns.set_style('ticks')\n",
    "\n",
    "so.Plot.config.theme.update(sns.axes_style(\"ticks\"))"
   ]
  },
  {
   "cell_type": "markdown",
   "metadata": {},
   "source": [
    "### Parameters"
   ]
  },
  {
   "cell_type": "code",
   "execution_count": 3,
   "metadata": {},
   "outputs": [],
   "source": [
    "N_CHROMOSOMES = 20\n",
    "N_GENERATIONS = 10\n",
    "N_ELITES = 2\n",
    "\n",
    "# Make sure N_CHROMOSOMES - N_ELITES is divisible by 2\n",
    "\n",
    "D_FITNESS = 2\n",
    "P_SWAP = 0.5\n",
    "P_MUTATE = 0.1\n",
    "\n",
    "MAX_FITNESS = (N_CHROMOSOMES - 1) * 2\n",
    "MIN_FITNESS = -MAX_FITNESS"
   ]
  },
  {
   "cell_type": "markdown",
   "metadata": {},
   "source": [
    "### Random"
   ]
  },
  {
   "cell_type": "code",
   "execution_count": 4,
   "metadata": {},
   "outputs": [],
   "source": [
    "np.random.seed(42)\n",
    "rng = np.random.default_rng()"
   ]
  },
  {
   "cell_type": "markdown",
   "metadata": {},
   "source": [
    "### Evolution"
   ]
  },
  {
   "cell_type": "markdown",
   "metadata": {},
   "source": [
    "#### Metrics"
   ]
  },
  {
   "cell_type": "code",
   "execution_count": null,
   "metadata": {},
   "outputs": [],
   "source": [
    "evolution_population = []\n",
    "evolution_fitnesses = []"
   ]
  },
  {
   "cell_type": "markdown",
   "metadata": {},
   "source": [
    "#### Loop"
   ]
  },
  {
   "cell_type": "code",
   "execution_count": null,
   "metadata": {},
   "outputs": [],
   "source": [
    "# 1. Randomly initialize a population of chromosomes\n",
    "population = generate_random_population(N_CHROMOSOMES)\n",
    "\n",
    "# 2. Repeat for each generation\n",
    "for i in tqdm(range(N_GENERATIONS), desc=\"Generation\"):\n",
    "    # 1. Determine the fitness of each chromosome\n",
    "    fitnesses = play_tournament(population, depth=D_FITNESS)\n",
    "\n",
    "    evolution_population.append(population)\n",
    "    evolution_fitnesses.append(fitnesses)\n",
    "\n",
    "    # 2. Create an elitism by keeping the chromosomes with the highest fitness\n",
    "    if N_ELITES == 0:\n",
    "        elites = np.array([], dtype=float)\n",
    "    else:\n",
    "        # https://stackoverflow.com/a/23734295\n",
    "        max_fitness_indices = fitnesses.argsort()[-N_ELITES:][::-1]\n",
    "        elites = population[max_fitness_indices]\n",
    "\n",
    "    # 3. Randomly select parents based on their fitness\n",
    "    if fitnesses.max() == fitnesses.min():\n",
    "        weights = np.full(len(fitnesses), 1 / len(fitnesses))\n",
    "    else:\n",
    "        fitnesses_min_max = (fitnesses - MIN_FITNESS) / (MAX_FITNESS - MIN_FITNESS)\n",
    "        weights = fitnesses_min_max / fitnesses_min_max.sum()\n",
    "\n",
    "    parents_indices = rng.choice(N_CHROMOSOMES, size=(int((N_CHROMOSOMES - N_ELITES) / 2), 2), p=weights)\n",
    "    parents = population[parents_indices]\n",
    "\n",
    "    # 4. Generate offspring by crossover\n",
    "    offsprings = np.empty(N_CHROMOSOMES - N_ELITES, dtype=\"object\")\n",
    "\n",
    "    for i, (p1, p2) in enumerate(parents):\n",
    "        r = rng.choice([0, 1, 2], size=1)\n",
    "\n",
    "        if r == 0:\n",
    "            c1, c2 = one_point_crossover(p1, p2)\n",
    "        elif r == 1:\n",
    "            c1, c2 = two_point_crossover(p1, p2)\n",
    "        else:\n",
    "            c1, c2 = uniform_crossover(p1, p2, P_SWAP)\n",
    "\n",
    "        offsprings[2 * i], offsprings[(2 * i )+ 1] = c1, c2\n",
    "\n",
    "    offsprings = np.array(list(offsprings), dtype=float)  # Fix shape issue with concatenation\n",
    "\n",
    "    # 5. Perform mutation on the offspring\n",
    "    for c in offsprings:\n",
    "        if rng.random() > P_MUTATE:\n",
    "            continue\n",
    "\n",
    "        r = rng.choice([0, 1, 2], size=1)\n",
    "\n",
    "        if r == 0:\n",
    "            c = swap(c)\n",
    "        elif r == 1:\n",
    "            c = scramble(c)\n",
    "        else:\n",
    "            c = inversion(c)\n",
    "\n",
    "    # 6. Merge the elite chromosomes and the offspring to create the next population\n",
    "    if N_ELITES == 0:\n",
    "        next_population = offsprings\n",
    "    else:\n",
    "        next_population = np.concatenate((elites, offsprings))\n",
    "\n",
    "    population = next_population.copy()\n",
    "\n",
    "evolution_population = np.array(evolution_population)\n",
    "evolution_fitnesses = np.array(evolution_fitnesses)"
   ]
  },
  {
   "cell_type": "markdown",
   "metadata": {},
   "source": [
    "### Save results"
   ]
  },
  {
   "cell_type": "markdown",
   "metadata": {},
   "source": [
    "#### Directories"
   ]
  },
  {
   "cell_type": "code",
   "execution_count": null,
   "metadata": {},
   "outputs": [],
   "source": [
    "population_path = '../data/genetic_population_evolution.csv'\n",
    "fitnesses_path = '../data/genetic_fitnesses_evolution.csv'"
   ]
  },
  {
   "cell_type": "markdown",
   "metadata": {},
   "source": [
    "#### Save to csv"
   ]
  },
  {
   "cell_type": "code",
   "execution_count": null,
   "metadata": {},
   "outputs": [],
   "source": [
    "df_fitnesses = pd.DataFrame(evolution_fitnesses, columns=[f\"chromosome_{i}\" for i in range(N_CHROMOSOMES)])\n",
    "df_fitnesses.insert(0, \"generation\", df_fitnesses.index)\n",
    "\n",
    "df_fitnesses.head()"
   ]
  },
  {
   "cell_type": "code",
   "execution_count": null,
   "metadata": {},
   "outputs": [],
   "source": [
    "reshaped_data = evolution_population.reshape(-1, evolution_population.shape[-1])\n",
    "columns=[\"coin_parity\",\n",
    "         \"actual_mobility\",\n",
    "         \"potential_mobility\",\n",
    "         \"corners_captured\",\n",
    "         \"future_corners_captured\",\n",
    "         \"static_weights\"]\n",
    "\n",
    "df_population = pd.DataFrame(reshaped_data, columns=columns)\n",
    "\n",
    "index = np.repeat(np.arange(evolution_population.shape[0]), evolution_population.shape[1])\n",
    "df_population.insert(0, \"generation\", index)\n",
    "\n",
    "df_population.head()"
   ]
  },
  {
   "cell_type": "code",
   "execution_count": null,
   "metadata": {},
   "outputs": [],
   "source": [
    "df_population.to_csv(population_path, index=False)\n",
    "df_fitnesses.to_csv(fitnesses_path, index=False)"
   ]
  },
  {
   "cell_type": "markdown",
   "metadata": {},
   "source": [
    "### Visualization"
   ]
  },
  {
   "cell_type": "markdown",
   "metadata": {},
   "source": [
    "#### Directories"
   ]
  },
  {
   "cell_type": "code",
   "execution_count": 5,
   "metadata": {},
   "outputs": [],
   "source": [
    "population_path = '../data/genetic_population_evolution.csv'\n",
    "fitnesses_path = '../data/genetic_fitnesses_evolution.csv'"
   ]
  },
  {
   "cell_type": "markdown",
   "metadata": {},
   "source": [
    "#### Load save data"
   ]
  },
  {
   "cell_type": "code",
   "execution_count": 6,
   "metadata": {},
   "outputs": [
    {
     "data": {
      "text/html": [
       "<div>\n",
       "<style scoped>\n",
       "    .dataframe tbody tr th:only-of-type {\n",
       "        vertical-align: middle;\n",
       "    }\n",
       "\n",
       "    .dataframe tbody tr th {\n",
       "        vertical-align: top;\n",
       "    }\n",
       "\n",
       "    .dataframe thead th {\n",
       "        text-align: right;\n",
       "    }\n",
       "</style>\n",
       "<table border=\"1\" class=\"dataframe\">\n",
       "  <thead>\n",
       "    <tr style=\"text-align: right;\">\n",
       "      <th></th>\n",
       "      <th>generation</th>\n",
       "      <th>coin_parity</th>\n",
       "      <th>actual_mobility</th>\n",
       "      <th>potential_mobility</th>\n",
       "      <th>corners_captured</th>\n",
       "      <th>future_corners_captured</th>\n",
       "      <th>static_weights</th>\n",
       "    </tr>\n",
       "  </thead>\n",
       "  <tbody>\n",
       "    <tr>\n",
       "      <th>0</th>\n",
       "      <td>0</td>\n",
       "      <td>0.051495</td>\n",
       "      <td>0.147500</td>\n",
       "      <td>0.365548</td>\n",
       "      <td>0.156888</td>\n",
       "      <td>0.217933</td>\n",
       "      <td>0.060637</td>\n",
       "    </tr>\n",
       "    <tr>\n",
       "      <th>1</th>\n",
       "      <td>0</td>\n",
       "      <td>0.291485</td>\n",
       "      <td>0.123273</td>\n",
       "      <td>0.050598</td>\n",
       "      <td>0.061173</td>\n",
       "      <td>0.345918</td>\n",
       "      <td>0.127553</td>\n",
       "    </tr>\n",
       "    <tr>\n",
       "      <th>2</th>\n",
       "      <td>0</td>\n",
       "      <td>0.073094</td>\n",
       "      <td>0.173269</td>\n",
       "      <td>0.365680</td>\n",
       "      <td>0.199760</td>\n",
       "      <td>0.092873</td>\n",
       "      <td>0.095324</td>\n",
       "    </tr>\n",
       "    <tr>\n",
       "      <th>3</th>\n",
       "      <td>0</td>\n",
       "      <td>0.253343</td>\n",
       "      <td>0.127966</td>\n",
       "      <td>0.251622</td>\n",
       "      <td>0.136064</td>\n",
       "      <td>0.035261</td>\n",
       "      <td>0.195744</td>\n",
       "    </tr>\n",
       "    <tr>\n",
       "      <th>4</th>\n",
       "      <td>0</td>\n",
       "      <td>0.249718</td>\n",
       "      <td>0.228214</td>\n",
       "      <td>0.065275</td>\n",
       "      <td>0.077933</td>\n",
       "      <td>0.194932</td>\n",
       "      <td>0.183928</td>\n",
       "    </tr>\n",
       "  </tbody>\n",
       "</table>\n",
       "</div>"
      ],
      "text/plain": [
       "   generation  coin_parity  actual_mobility  potential_mobility  \\\n",
       "0           0     0.051495         0.147500            0.365548   \n",
       "1           0     0.291485         0.123273            0.050598   \n",
       "2           0     0.073094         0.173269            0.365680   \n",
       "3           0     0.253343         0.127966            0.251622   \n",
       "4           0     0.249718         0.228214            0.065275   \n",
       "\n",
       "   corners_captured  future_corners_captured  static_weights  \n",
       "0          0.156888                 0.217933        0.060637  \n",
       "1          0.061173                 0.345918        0.127553  \n",
       "2          0.199760                 0.092873        0.095324  \n",
       "3          0.136064                 0.035261        0.195744  \n",
       "4          0.077933                 0.194932        0.183928  "
      ]
     },
     "execution_count": 6,
     "metadata": {},
     "output_type": "execute_result"
    }
   ],
   "source": [
    "df_population = pd.read_csv(population_path)\n",
    "df_population.head()"
   ]
  },
  {
   "cell_type": "code",
   "execution_count": 7,
   "metadata": {},
   "outputs": [
    {
     "data": {
      "text/html": [
       "<div>\n",
       "<style scoped>\n",
       "    .dataframe tbody tr th:only-of-type {\n",
       "        vertical-align: middle;\n",
       "    }\n",
       "\n",
       "    .dataframe tbody tr th {\n",
       "        vertical-align: top;\n",
       "    }\n",
       "\n",
       "    .dataframe thead th {\n",
       "        text-align: right;\n",
       "    }\n",
       "</style>\n",
       "<table border=\"1\" class=\"dataframe\">\n",
       "  <thead>\n",
       "    <tr style=\"text-align: right;\">\n",
       "      <th></th>\n",
       "      <th>generation</th>\n",
       "      <th>chromosome_0</th>\n",
       "      <th>chromosome_1</th>\n",
       "      <th>chromosome_2</th>\n",
       "      <th>chromosome_3</th>\n",
       "      <th>chromosome_4</th>\n",
       "      <th>chromosome_5</th>\n",
       "      <th>chromosome_6</th>\n",
       "      <th>chromosome_7</th>\n",
       "      <th>chromosome_8</th>\n",
       "      <th>...</th>\n",
       "      <th>chromosome_10</th>\n",
       "      <th>chromosome_11</th>\n",
       "      <th>chromosome_12</th>\n",
       "      <th>chromosome_13</th>\n",
       "      <th>chromosome_14</th>\n",
       "      <th>chromosome_15</th>\n",
       "      <th>chromosome_16</th>\n",
       "      <th>chromosome_17</th>\n",
       "      <th>chromosome_18</th>\n",
       "      <th>chromosome_19</th>\n",
       "    </tr>\n",
       "  </thead>\n",
       "  <tbody>\n",
       "    <tr>\n",
       "      <th>0</th>\n",
       "      <td>0</td>\n",
       "      <td>1</td>\n",
       "      <td>11</td>\n",
       "      <td>10</td>\n",
       "      <td>12</td>\n",
       "      <td>-8</td>\n",
       "      <td>1</td>\n",
       "      <td>-13</td>\n",
       "      <td>-11</td>\n",
       "      <td>4</td>\n",
       "      <td>...</td>\n",
       "      <td>-13</td>\n",
       "      <td>1</td>\n",
       "      <td>-5</td>\n",
       "      <td>12</td>\n",
       "      <td>-3</td>\n",
       "      <td>-13</td>\n",
       "      <td>1</td>\n",
       "      <td>10</td>\n",
       "      <td>-2</td>\n",
       "      <td>-10</td>\n",
       "    </tr>\n",
       "    <tr>\n",
       "      <th>1</th>\n",
       "      <td>1</td>\n",
       "      <td>10</td>\n",
       "      <td>10</td>\n",
       "      <td>-1</td>\n",
       "      <td>-14</td>\n",
       "      <td>-13</td>\n",
       "      <td>3</td>\n",
       "      <td>13</td>\n",
       "      <td>-7</td>\n",
       "      <td>12</td>\n",
       "      <td>...</td>\n",
       "      <td>-5</td>\n",
       "      <td>-1</td>\n",
       "      <td>-7</td>\n",
       "      <td>14</td>\n",
       "      <td>15</td>\n",
       "      <td>14</td>\n",
       "      <td>-13</td>\n",
       "      <td>-18</td>\n",
       "      <td>6</td>\n",
       "      <td>-6</td>\n",
       "    </tr>\n",
       "    <tr>\n",
       "      <th>2</th>\n",
       "      <td>2</td>\n",
       "      <td>15</td>\n",
       "      <td>12</td>\n",
       "      <td>-7</td>\n",
       "      <td>5</td>\n",
       "      <td>-14</td>\n",
       "      <td>2</td>\n",
       "      <td>12</td>\n",
       "      <td>-13</td>\n",
       "      <td>10</td>\n",
       "      <td>...</td>\n",
       "      <td>-12</td>\n",
       "      <td>4</td>\n",
       "      <td>2</td>\n",
       "      <td>2</td>\n",
       "      <td>-12</td>\n",
       "      <td>-8</td>\n",
       "      <td>-1</td>\n",
       "      <td>-1</td>\n",
       "      <td>-2</td>\n",
       "      <td>8</td>\n",
       "    </tr>\n",
       "    <tr>\n",
       "      <th>3</th>\n",
       "      <td>3</td>\n",
       "      <td>9</td>\n",
       "      <td>12</td>\n",
       "      <td>-14</td>\n",
       "      <td>-14</td>\n",
       "      <td>14</td>\n",
       "      <td>1</td>\n",
       "      <td>-8</td>\n",
       "      <td>-6</td>\n",
       "      <td>-13</td>\n",
       "      <td>...</td>\n",
       "      <td>-18</td>\n",
       "      <td>10</td>\n",
       "      <td>-2</td>\n",
       "      <td>14</td>\n",
       "      <td>3</td>\n",
       "      <td>3</td>\n",
       "      <td>4</td>\n",
       "      <td>7</td>\n",
       "      <td>-5</td>\n",
       "      <td>-5</td>\n",
       "    </tr>\n",
       "    <tr>\n",
       "      <th>4</th>\n",
       "      <td>4</td>\n",
       "      <td>8</td>\n",
       "      <td>10</td>\n",
       "      <td>6</td>\n",
       "      <td>-3</td>\n",
       "      <td>-10</td>\n",
       "      <td>-7</td>\n",
       "      <td>-8</td>\n",
       "      <td>-14</td>\n",
       "      <td>13</td>\n",
       "      <td>...</td>\n",
       "      <td>4</td>\n",
       "      <td>-8</td>\n",
       "      <td>-12</td>\n",
       "      <td>3</td>\n",
       "      <td>-6</td>\n",
       "      <td>3</td>\n",
       "      <td>-8</td>\n",
       "      <td>11</td>\n",
       "      <td>8</td>\n",
       "      <td>8</td>\n",
       "    </tr>\n",
       "  </tbody>\n",
       "</table>\n",
       "<p>5 rows × 21 columns</p>\n",
       "</div>"
      ],
      "text/plain": [
       "   generation  chromosome_0  chromosome_1  chromosome_2  chromosome_3  \\\n",
       "0           0             1            11            10            12   \n",
       "1           1            10            10            -1           -14   \n",
       "2           2            15            12            -7             5   \n",
       "3           3             9            12           -14           -14   \n",
       "4           4             8            10             6            -3   \n",
       "\n",
       "   chromosome_4  chromosome_5  chromosome_6  chromosome_7  chromosome_8  ...  \\\n",
       "0            -8             1           -13           -11             4  ...   \n",
       "1           -13             3            13            -7            12  ...   \n",
       "2           -14             2            12           -13            10  ...   \n",
       "3            14             1            -8            -6           -13  ...   \n",
       "4           -10            -7            -8           -14            13  ...   \n",
       "\n",
       "   chromosome_10  chromosome_11  chromosome_12  chromosome_13  chromosome_14  \\\n",
       "0            -13              1             -5             12             -3   \n",
       "1             -5             -1             -7             14             15   \n",
       "2            -12              4              2              2            -12   \n",
       "3            -18             10             -2             14              3   \n",
       "4              4             -8            -12              3             -6   \n",
       "\n",
       "   chromosome_15  chromosome_16  chromosome_17  chromosome_18  chromosome_19  \n",
       "0            -13              1             10             -2            -10  \n",
       "1             14            -13            -18              6             -6  \n",
       "2             -8             -1             -1             -2              8  \n",
       "3              3              4              7             -5             -5  \n",
       "4              3             -8             11              8              8  \n",
       "\n",
       "[5 rows x 21 columns]"
      ]
     },
     "execution_count": 7,
     "metadata": {},
     "output_type": "execute_result"
    }
   ],
   "source": [
    "df_fitnesses = pd.read_csv(fitnesses_path,)\n",
    "df_fitnesses.head()"
   ]
  },
  {
   "cell_type": "markdown",
   "metadata": {},
   "source": [
    "#### Fitness evolution"
   ]
  },
  {
   "cell_type": "code",
   "execution_count": 8,
   "metadata": {},
   "outputs": [
    {
     "data": {
      "text/html": [
       "<div>\n",
       "<style scoped>\n",
       "    .dataframe tbody tr th:only-of-type {\n",
       "        vertical-align: middle;\n",
       "    }\n",
       "\n",
       "    .dataframe tbody tr th {\n",
       "        vertical-align: top;\n",
       "    }\n",
       "\n",
       "    .dataframe thead th {\n",
       "        text-align: right;\n",
       "    }\n",
       "</style>\n",
       "<table border=\"1\" class=\"dataframe\">\n",
       "  <thead>\n",
       "    <tr style=\"text-align: right;\">\n",
       "      <th></th>\n",
       "      <th>generation</th>\n",
       "      <th>measure</th>\n",
       "      <th>fitness</th>\n",
       "    </tr>\n",
       "  </thead>\n",
       "  <tbody>\n",
       "    <tr>\n",
       "      <th>0</th>\n",
       "      <td>0</td>\n",
       "      <td>max</td>\n",
       "      <td>15</td>\n",
       "    </tr>\n",
       "    <tr>\n",
       "      <th>1</th>\n",
       "      <td>1</td>\n",
       "      <td>max</td>\n",
       "      <td>15</td>\n",
       "    </tr>\n",
       "    <tr>\n",
       "      <th>2</th>\n",
       "      <td>2</td>\n",
       "      <td>max</td>\n",
       "      <td>15</td>\n",
       "    </tr>\n",
       "    <tr>\n",
       "      <th>3</th>\n",
       "      <td>3</td>\n",
       "      <td>max</td>\n",
       "      <td>14</td>\n",
       "    </tr>\n",
       "    <tr>\n",
       "      <th>4</th>\n",
       "      <td>4</td>\n",
       "      <td>max</td>\n",
       "      <td>13</td>\n",
       "    </tr>\n",
       "  </tbody>\n",
       "</table>\n",
       "</div>"
      ],
      "text/plain": [
       "   generation measure  fitness\n",
       "0           0     max       15\n",
       "1           1     max       15\n",
       "2           2     max       15\n",
       "3           3     max       14\n",
       "4           4     max       13"
      ]
     },
     "execution_count": 8,
     "metadata": {},
     "output_type": "execute_result"
    }
   ],
   "source": [
    "fitness_max = df_fitnesses.iloc[:, 1:].max(axis=1)\n",
    "fitness_min = df_fitnesses.iloc[:, 1:].min(axis=1)\n",
    "\n",
    "data = pd.concat([fitness_max, fitness_min], axis=1)\n",
    "data.columns = [\"max\", \"min\"]\n",
    "data.insert(0, \"generation\", df_fitnesses[\"generation\"])\n",
    "\n",
    "data_melted = data.melt(id_vars=\"generation\", var_name=\"measure\", value_name='fitness')\n",
    "\n",
    "data_melted.head()"
   ]
  },
  {
   "cell_type": "code",
   "execution_count": 13,
   "metadata": {},
   "outputs": [
    {
     "data": {
      "image/png": "[encoded data removed]",
      "text/plain": [
       "<Figure size 720x432 with 1 Axes>"
      ]
     },
     "metadata": {},
     "output_type": "display_data"
    }
   ],
   "source": [
    "sns.pointplot(data_melted, x=\"generation\", y=\"fitness\", hue=\"measure\")\n",
    "_ = plt.title(\"Evolution of fitness\")"
   ]
  },
  {
   "cell_type": "markdown",
   "metadata": {},
   "source": [
    "#### Population evolution"
   ]
  },
  {
   "cell_type": "code",
   "execution_count": 15,
   "metadata": {},
   "outputs": [
    {
     "data": {
      "text/html": [
       "<div>\n",
       "<style scoped>\n",
       "    .dataframe tbody tr th:only-of-type {\n",
       "        vertical-align: middle;\n",
       "    }\n",
       "\n",
       "    .dataframe tbody tr th {\n",
       "        vertical-align: top;\n",
       "    }\n",
       "\n",
       "    .dataframe thead th {\n",
       "        text-align: right;\n",
       "    }\n",
       "</style>\n",
       "<table border=\"1\" class=\"dataframe\">\n",
       "  <thead>\n",
       "    <tr style=\"text-align: right;\">\n",
       "      <th></th>\n",
       "      <th>generation</th>\n",
       "      <th>coin_parity</th>\n",
       "      <th>actual_mobility</th>\n",
       "      <th>potential_mobility</th>\n",
       "      <th>corners_captured</th>\n",
       "      <th>future_corners_captured</th>\n",
       "      <th>static_weights</th>\n",
       "    </tr>\n",
       "  </thead>\n",
       "  <tbody>\n",
       "    <tr>\n",
       "      <th>0</th>\n",
       "      <td>0</td>\n",
       "      <td>0.108087</td>\n",
       "      <td>0.238843</td>\n",
       "      <td>0.103118</td>\n",
       "      <td>0.086412</td>\n",
       "      <td>0.369398</td>\n",
       "      <td>0.094143</td>\n",
       "    </tr>\n",
       "    <tr>\n",
       "      <th>1</th>\n",
       "      <td>1</td>\n",
       "      <td>0.247046</td>\n",
       "      <td>0.124785</td>\n",
       "      <td>0.206754</td>\n",
       "      <td>0.196153</td>\n",
       "      <td>0.034385</td>\n",
       "      <td>0.190878</td>\n",
       "    </tr>\n",
       "    <tr>\n",
       "      <th>2</th>\n",
       "      <td>2</td>\n",
       "      <td>0.247046</td>\n",
       "      <td>0.124785</td>\n",
       "      <td>0.206754</td>\n",
       "      <td>0.196153</td>\n",
       "      <td>0.034385</td>\n",
       "      <td>0.190878</td>\n",
       "    </tr>\n",
       "    <tr>\n",
       "      <th>3</th>\n",
       "      <td>3</td>\n",
       "      <td>0.251257</td>\n",
       "      <td>0.307684</td>\n",
       "      <td>0.033432</td>\n",
       "      <td>0.232342</td>\n",
       "      <td>0.045543</td>\n",
       "      <td>0.129742</td>\n",
       "    </tr>\n",
       "    <tr>\n",
       "      <th>4</th>\n",
       "      <td>4</td>\n",
       "      <td>0.175399</td>\n",
       "      <td>0.150186</td>\n",
       "      <td>0.248981</td>\n",
       "      <td>0.157698</td>\n",
       "      <td>0.040868</td>\n",
       "      <td>0.226868</td>\n",
       "    </tr>\n",
       "  </tbody>\n",
       "</table>\n",
       "</div>"
      ],
      "text/plain": [
       "   generation  coin_parity  actual_mobility  potential_mobility  \\\n",
       "0           0     0.108087         0.238843            0.103118   \n",
       "1           1     0.247046         0.124785            0.206754   \n",
       "2           2     0.247046         0.124785            0.206754   \n",
       "3           3     0.251257         0.307684            0.033432   \n",
       "4           4     0.175399         0.150186            0.248981   \n",
       "\n",
       "   corners_captured  future_corners_captured  static_weights  \n",
       "0          0.086412                 0.369398        0.094143  \n",
       "1          0.196153                 0.034385        0.190878  \n",
       "2          0.196153                 0.034385        0.190878  \n",
       "3          0.232342                 0.045543        0.129742  \n",
       "4          0.157698                 0.040868        0.226868  "
      ]
     },
     "execution_count": 15,
     "metadata": {},
     "output_type": "execute_result"
    }
   ],
   "source": [
    "max_fitness_index_per_generation = np.array([np.argmax(f) for f in df_fitnesses.values])\n",
    "df_best_chromosomes = df_population.groupby(\"generation\").apply(lambda x: x.iloc[max_fitness_index_per_generation[x.name]])\n",
    "\n",
    "df_best_chromosomes.reset_index(drop=True, inplace=True)\n",
    "df_best_chromosomes[\"generation\"] = df_best_chromosomes.index\n",
    "\n",
    "df_best_chromosomes.head()"
   ]
  },
  {
   "cell_type": "code",
   "execution_count": 16,
   "metadata": {},
   "outputs": [
    {
     "data": {
      "text/html": [
       "<div>\n",
       "<style scoped>\n",
       "    .dataframe tbody tr th:only-of-type {\n",
       "        vertical-align: middle;\n",
       "    }\n",
       "\n",
       "    .dataframe tbody tr th {\n",
       "        vertical-align: top;\n",
       "    }\n",
       "\n",
       "    .dataframe thead th {\n",
       "        text-align: right;\n",
       "    }\n",
       "</style>\n",
       "<table border=\"1\" class=\"dataframe\">\n",
       "  <thead>\n",
       "    <tr style=\"text-align: right;\">\n",
       "      <th></th>\n",
       "      <th>generation</th>\n",
       "      <th>component</th>\n",
       "      <th>proportion</th>\n",
       "    </tr>\n",
       "  </thead>\n",
       "  <tbody>\n",
       "    <tr>\n",
       "      <th>0</th>\n",
       "      <td>0</td>\n",
       "      <td>coin_parity</td>\n",
       "      <td>0.108087</td>\n",
       "    </tr>\n",
       "    <tr>\n",
       "      <th>1</th>\n",
       "      <td>1</td>\n",
       "      <td>coin_parity</td>\n",
       "      <td>0.247046</td>\n",
       "    </tr>\n",
       "    <tr>\n",
       "      <th>2</th>\n",
       "      <td>2</td>\n",
       "      <td>coin_parity</td>\n",
       "      <td>0.247046</td>\n",
       "    </tr>\n",
       "    <tr>\n",
       "      <th>3</th>\n",
       "      <td>3</td>\n",
       "      <td>coin_parity</td>\n",
       "      <td>0.251257</td>\n",
       "    </tr>\n",
       "    <tr>\n",
       "      <th>4</th>\n",
       "      <td>4</td>\n",
       "      <td>coin_parity</td>\n",
       "      <td>0.175399</td>\n",
       "    </tr>\n",
       "  </tbody>\n",
       "</table>\n",
       "</div>"
      ],
      "text/plain": [
       "   generation    component  proportion\n",
       "0           0  coin_parity    0.108087\n",
       "1           1  coin_parity    0.247046\n",
       "2           2  coin_parity    0.247046\n",
       "3           3  coin_parity    0.251257\n",
       "4           4  coin_parity    0.175399"
      ]
     },
     "execution_count": 16,
     "metadata": {},
     "output_type": "execute_result"
    }
   ],
   "source": [
    "data_melted = df_best_chromosomes.melt(id_vars=\"generation\", var_name=\"component\", value_name='proportion')\n",
    "\n",
    "data_melted.head()"
   ]
  },
  {
   "cell_type": "code",
   "execution_count": 17,
   "metadata": {},
   "outputs": [
    {
     "data": {
      "image/png": "[encoded data removed]",
      "text/plain": [
       "<seaborn._core.plot.Plot at 0x7f2e5c7b2f50>"
      ]
     },
     "execution_count": 17,
     "metadata": {
      "image/png": {
       "height": 378.25,
       "width": 716.975
      }
     },
     "output_type": "execute_result"
    }
   ],
   "source": [
    "so.Plot(data_melted, x=\"generation\", y=\"proportion\", color=\"component\")\\\n",
    "  .add(so.Area(alpha=1), so.Stack())\\\n",
    "  .label(title=\"Evolution of static evaluation component proportions\")"
   ]
  },
  {
   "cell_type": "markdown",
   "metadata": {},
   "source": [
    "### Save best chromosome"
   ]
  },
  {
   "cell_type": "markdown",
   "metadata": {},
   "source": [
    "#### Directories"
   ]
  },
  {
   "cell_type": "code",
   "execution_count": 24,
   "metadata": {},
   "outputs": [],
   "source": [
    "population_path = '../data/genetic_population_evolution.csv'\n",
    "fitnesses_path = '../data/genetic_fitnesses_evolution.csv'\n",
    "best_chromosome_path = '../data/genetic_best_chromosome.txt'"
   ]
  },
  {
   "cell_type": "markdown",
   "metadata": {},
   "source": [
    "#### Save to txt"
   ]
  },
  {
   "cell_type": "code",
   "execution_count": 25,
   "metadata": {},
   "outputs": [
    {
     "data": {
      "text/html": [
       "<div>\n",
       "<style scoped>\n",
       "    .dataframe tbody tr th:only-of-type {\n",
       "        vertical-align: middle;\n",
       "    }\n",
       "\n",
       "    .dataframe tbody tr th {\n",
       "        vertical-align: top;\n",
       "    }\n",
       "\n",
       "    .dataframe thead th {\n",
       "        text-align: right;\n",
       "    }\n",
       "</style>\n",
       "<table border=\"1\" class=\"dataframe\">\n",
       "  <thead>\n",
       "    <tr style=\"text-align: right;\">\n",
       "      <th></th>\n",
       "      <th>generation</th>\n",
       "      <th>coin_parity</th>\n",
       "      <th>actual_mobility</th>\n",
       "      <th>potential_mobility</th>\n",
       "      <th>corners_captured</th>\n",
       "      <th>future_corners_captured</th>\n",
       "      <th>static_weights</th>\n",
       "    </tr>\n",
       "  </thead>\n",
       "  <tbody>\n",
       "    <tr>\n",
       "      <th>195</th>\n",
       "      <td>9</td>\n",
       "      <td>0.223700</td>\n",
       "      <td>0.074149</td>\n",
       "      <td>0.183283</td>\n",
       "      <td>0.197353</td>\n",
       "      <td>0.037598</td>\n",
       "      <td>0.283916</td>\n",
       "    </tr>\n",
       "    <tr>\n",
       "      <th>196</th>\n",
       "      <td>9</td>\n",
       "      <td>0.226344</td>\n",
       "      <td>0.059937</td>\n",
       "      <td>0.339609</td>\n",
       "      <td>0.165100</td>\n",
       "      <td>0.003940</td>\n",
       "      <td>0.205071</td>\n",
       "    </tr>\n",
       "    <tr>\n",
       "      <th>197</th>\n",
       "      <td>9</td>\n",
       "      <td>0.265308</td>\n",
       "      <td>0.056914</td>\n",
       "      <td>0.294843</td>\n",
       "      <td>0.159567</td>\n",
       "      <td>0.045901</td>\n",
       "      <td>0.177467</td>\n",
       "    </tr>\n",
       "    <tr>\n",
       "      <th>198</th>\n",
       "      <td>9</td>\n",
       "      <td>0.244441</td>\n",
       "      <td>0.093998</td>\n",
       "      <td>0.189513</td>\n",
       "      <td>0.181138</td>\n",
       "      <td>0.030321</td>\n",
       "      <td>0.260589</td>\n",
       "    </tr>\n",
       "    <tr>\n",
       "      <th>199</th>\n",
       "      <td>9</td>\n",
       "      <td>0.224888</td>\n",
       "      <td>0.056449</td>\n",
       "      <td>0.292437</td>\n",
       "      <td>0.158265</td>\n",
       "      <td>0.045526</td>\n",
       "      <td>0.222434</td>\n",
       "    </tr>\n",
       "  </tbody>\n",
       "</table>\n",
       "</div>"
      ],
      "text/plain": [
       "     generation  coin_parity  actual_mobility  potential_mobility  \\\n",
       "195           9     0.223700         0.074149            0.183283   \n",
       "196           9     0.226344         0.059937            0.339609   \n",
       "197           9     0.265308         0.056914            0.294843   \n",
       "198           9     0.244441         0.093998            0.189513   \n",
       "199           9     0.224888         0.056449            0.292437   \n",
       "\n",
       "     corners_captured  future_corners_captured  static_weights  \n",
       "195          0.197353                 0.037598        0.283916  \n",
       "196          0.165100                 0.003940        0.205071  \n",
       "197          0.159567                 0.045901        0.177467  \n",
       "198          0.181138                 0.030321        0.260589  \n",
       "199          0.158265                 0.045526        0.222434  "
      ]
     },
     "execution_count": 25,
     "metadata": {},
     "output_type": "execute_result"
    }
   ],
   "source": [
    "df_population = pd.read_csv(population_path)\n",
    "df_population.tail()"
   ]
  },
  {
   "cell_type": "code",
   "execution_count": 26,
   "metadata": {},
   "outputs": [
    {
     "data": {
      "text/html": [
       "<div>\n",
       "<style scoped>\n",
       "    .dataframe tbody tr th:only-of-type {\n",
       "        vertical-align: middle;\n",
       "    }\n",
       "\n",
       "    .dataframe tbody tr th {\n",
       "        vertical-align: top;\n",
       "    }\n",
       "\n",
       "    .dataframe thead th {\n",
       "        text-align: right;\n",
       "    }\n",
       "</style>\n",
       "<table border=\"1\" class=\"dataframe\">\n",
       "  <thead>\n",
       "    <tr style=\"text-align: right;\">\n",
       "      <th></th>\n",
       "      <th>generation</th>\n",
       "      <th>chromosome_0</th>\n",
       "      <th>chromosome_1</th>\n",
       "      <th>chromosome_2</th>\n",
       "      <th>chromosome_3</th>\n",
       "      <th>chromosome_4</th>\n",
       "      <th>chromosome_5</th>\n",
       "      <th>chromosome_6</th>\n",
       "      <th>chromosome_7</th>\n",
       "      <th>chromosome_8</th>\n",
       "      <th>...</th>\n",
       "      <th>chromosome_10</th>\n",
       "      <th>chromosome_11</th>\n",
       "      <th>chromosome_12</th>\n",
       "      <th>chromosome_13</th>\n",
       "      <th>chromosome_14</th>\n",
       "      <th>chromosome_15</th>\n",
       "      <th>chromosome_16</th>\n",
       "      <th>chromosome_17</th>\n",
       "      <th>chromosome_18</th>\n",
       "      <th>chromosome_19</th>\n",
       "    </tr>\n",
       "  </thead>\n",
       "  <tbody>\n",
       "    <tr>\n",
       "      <th>5</th>\n",
       "      <td>5</td>\n",
       "      <td>9</td>\n",
       "      <td>12</td>\n",
       "      <td>9</td>\n",
       "      <td>-6</td>\n",
       "      <td>-18</td>\n",
       "      <td>-14</td>\n",
       "      <td>9</td>\n",
       "      <td>-5</td>\n",
       "      <td>8</td>\n",
       "      <td>...</td>\n",
       "      <td>-18</td>\n",
       "      <td>8</td>\n",
       "      <td>-7</td>\n",
       "      <td>21</td>\n",
       "      <td>-8</td>\n",
       "      <td>-2</td>\n",
       "      <td>-2</td>\n",
       "      <td>-6</td>\n",
       "      <td>16</td>\n",
       "      <td>-14</td>\n",
       "    </tr>\n",
       "    <tr>\n",
       "      <th>6</th>\n",
       "      <td>6</td>\n",
       "      <td>15</td>\n",
       "      <td>5</td>\n",
       "      <td>4</td>\n",
       "      <td>3</td>\n",
       "      <td>-15</td>\n",
       "      <td>12</td>\n",
       "      <td>-3</td>\n",
       "      <td>-2</td>\n",
       "      <td>7</td>\n",
       "      <td>...</td>\n",
       "      <td>-6</td>\n",
       "      <td>3</td>\n",
       "      <td>0</td>\n",
       "      <td>-4</td>\n",
       "      <td>9</td>\n",
       "      <td>-4</td>\n",
       "      <td>7</td>\n",
       "      <td>-6</td>\n",
       "      <td>-2</td>\n",
       "      <td>-2</td>\n",
       "    </tr>\n",
       "    <tr>\n",
       "      <th>7</th>\n",
       "      <td>7</td>\n",
       "      <td>14</td>\n",
       "      <td>18</td>\n",
       "      <td>-12</td>\n",
       "      <td>-7</td>\n",
       "      <td>-4</td>\n",
       "      <td>3</td>\n",
       "      <td>3</td>\n",
       "      <td>-11</td>\n",
       "      <td>4</td>\n",
       "      <td>...</td>\n",
       "      <td>-2</td>\n",
       "      <td>-2</td>\n",
       "      <td>-18</td>\n",
       "      <td>14</td>\n",
       "      <td>1</td>\n",
       "      <td>-6</td>\n",
       "      <td>-10</td>\n",
       "      <td>-10</td>\n",
       "      <td>18</td>\n",
       "      <td>11</td>\n",
       "    </tr>\n",
       "    <tr>\n",
       "      <th>8</th>\n",
       "      <td>8</td>\n",
       "      <td>10</td>\n",
       "      <td>10</td>\n",
       "      <td>-5</td>\n",
       "      <td>-15</td>\n",
       "      <td>8</td>\n",
       "      <td>4</td>\n",
       "      <td>-2</td>\n",
       "      <td>-1</td>\n",
       "      <td>-11</td>\n",
       "      <td>...</td>\n",
       "      <td>14</td>\n",
       "      <td>14</td>\n",
       "      <td>-6</td>\n",
       "      <td>-2</td>\n",
       "      <td>-7</td>\n",
       "      <td>0</td>\n",
       "      <td>-12</td>\n",
       "      <td>0</td>\n",
       "      <td>4</td>\n",
       "      <td>-5</td>\n",
       "    </tr>\n",
       "    <tr>\n",
       "      <th>9</th>\n",
       "      <td>9</td>\n",
       "      <td>2</td>\n",
       "      <td>13</td>\n",
       "      <td>4</td>\n",
       "      <td>-12</td>\n",
       "      <td>-5</td>\n",
       "      <td>0</td>\n",
       "      <td>-1</td>\n",
       "      <td>-6</td>\n",
       "      <td>-4</td>\n",
       "      <td>...</td>\n",
       "      <td>2</td>\n",
       "      <td>-5</td>\n",
       "      <td>-4</td>\n",
       "      <td>12</td>\n",
       "      <td>0</td>\n",
       "      <td>1</td>\n",
       "      <td>1</td>\n",
       "      <td>-5</td>\n",
       "      <td>6</td>\n",
       "      <td>9</td>\n",
       "    </tr>\n",
       "  </tbody>\n",
       "</table>\n",
       "<p>5 rows × 21 columns</p>\n",
       "</div>"
      ],
      "text/plain": [
       "   generation  chromosome_0  chromosome_1  chromosome_2  chromosome_3  \\\n",
       "5           5             9            12             9            -6   \n",
       "6           6            15             5             4             3   \n",
       "7           7            14            18           -12            -7   \n",
       "8           8            10            10            -5           -15   \n",
       "9           9             2            13             4           -12   \n",
       "\n",
       "   chromosome_4  chromosome_5  chromosome_6  chromosome_7  chromosome_8  ...  \\\n",
       "5           -18           -14             9            -5             8  ...   \n",
       "6           -15            12            -3            -2             7  ...   \n",
       "7            -4             3             3           -11             4  ...   \n",
       "8             8             4            -2            -1           -11  ...   \n",
       "9            -5             0            -1            -6            -4  ...   \n",
       "\n",
       "   chromosome_10  chromosome_11  chromosome_12  chromosome_13  chromosome_14  \\\n",
       "5            -18              8             -7             21             -8   \n",
       "6             -6              3              0             -4              9   \n",
       "7             -2             -2            -18             14              1   \n",
       "8             14             14             -6             -2             -7   \n",
       "9              2             -5             -4             12              0   \n",
       "\n",
       "   chromosome_15  chromosome_16  chromosome_17  chromosome_18  chromosome_19  \n",
       "5             -2             -2             -6             16            -14  \n",
       "6             -4              7             -6             -2             -2  \n",
       "7             -6            -10            -10             18             11  \n",
       "8              0            -12              0              4             -5  \n",
       "9              1              1             -5              6              9  \n",
       "\n",
       "[5 rows x 21 columns]"
      ]
     },
     "execution_count": 26,
     "metadata": {},
     "output_type": "execute_result"
    }
   ],
   "source": [
    "df_fitnesses = pd.read_csv(fitnesses_path)\n",
    "df_fitnesses.tail()"
   ]
  },
  {
   "cell_type": "code",
   "execution_count": 27,
   "metadata": {},
   "outputs": [
    {
     "name": "stderr",
     "output_type": "stream",
     "text": [
      "/tmp/ipykernel_60692/2938237407.py:4: SettingWithCopyWarning: \n",
      "A value is trying to be set on a copy of a slice from a DataFrame.\n",
      "Try using .loc[row_indexer,col_indexer] = value instead\n",
      "\n",
      "See the caveats in the documentation: https://pandas.pydata.org/pandas-docs/stable/user_guide/indexing.html#returning-a-view-versus-a-copy\n",
      "  last_generation[\"fitness\"] = df_fitnesses[df_fitnesses[\"generation\"] == last_generation_number].values[0][1:]\n"
     ]
    },
    {
     "data": {
      "text/html": [
       "<div>\n",
       "<style scoped>\n",
       "    .dataframe tbody tr th:only-of-type {\n",
       "        vertical-align: middle;\n",
       "    }\n",
       "\n",
       "    .dataframe tbody tr th {\n",
       "        vertical-align: top;\n",
       "    }\n",
       "\n",
       "    .dataframe thead th {\n",
       "        text-align: right;\n",
       "    }\n",
       "</style>\n",
       "<table border=\"1\" class=\"dataframe\">\n",
       "  <thead>\n",
       "    <tr style=\"text-align: right;\">\n",
       "      <th></th>\n",
       "      <th>generation</th>\n",
       "      <th>coin_parity</th>\n",
       "      <th>actual_mobility</th>\n",
       "      <th>potential_mobility</th>\n",
       "      <th>corners_captured</th>\n",
       "      <th>future_corners_captured</th>\n",
       "      <th>static_weights</th>\n",
       "      <th>fitness</th>\n",
       "    </tr>\n",
       "  </thead>\n",
       "  <tbody>\n",
       "    <tr>\n",
       "      <th>180</th>\n",
       "      <td>9</td>\n",
       "      <td>0.254307</td>\n",
       "      <td>0.091769</td>\n",
       "      <td>0.331564</td>\n",
       "      <td>0.168695</td>\n",
       "      <td>0.043774</td>\n",
       "      <td>0.109891</td>\n",
       "      <td>2</td>\n",
       "    </tr>\n",
       "    <tr>\n",
       "      <th>181</th>\n",
       "      <td>9</td>\n",
       "      <td>0.232647</td>\n",
       "      <td>0.195549</td>\n",
       "      <td>0.242861</td>\n",
       "      <td>0.197906</td>\n",
       "      <td>0.027173</td>\n",
       "      <td>0.103863</td>\n",
       "      <td>13</td>\n",
       "    </tr>\n",
       "    <tr>\n",
       "      <th>182</th>\n",
       "      <td>9</td>\n",
       "      <td>0.261443</td>\n",
       "      <td>0.087653</td>\n",
       "      <td>0.217550</td>\n",
       "      <td>0.168911</td>\n",
       "      <td>0.028275</td>\n",
       "      <td>0.236168</td>\n",
       "      <td>4</td>\n",
       "    </tr>\n",
       "    <tr>\n",
       "      <th>183</th>\n",
       "      <td>9</td>\n",
       "      <td>0.243893</td>\n",
       "      <td>0.068751</td>\n",
       "      <td>0.221254</td>\n",
       "      <td>0.158094</td>\n",
       "      <td>0.003773</td>\n",
       "      <td>0.304235</td>\n",
       "      <td>-12</td>\n",
       "    </tr>\n",
       "    <tr>\n",
       "      <th>184</th>\n",
       "      <td>9</td>\n",
       "      <td>0.195950</td>\n",
       "      <td>0.087544</td>\n",
       "      <td>0.208065</td>\n",
       "      <td>0.131783</td>\n",
       "      <td>0.033290</td>\n",
       "      <td>0.343368</td>\n",
       "      <td>-5</td>\n",
       "    </tr>\n",
       "  </tbody>\n",
       "</table>\n",
       "</div>"
      ],
      "text/plain": [
       "     generation  coin_parity  actual_mobility  potential_mobility  \\\n",
       "180           9     0.254307         0.091769            0.331564   \n",
       "181           9     0.232647         0.195549            0.242861   \n",
       "182           9     0.261443         0.087653            0.217550   \n",
       "183           9     0.243893         0.068751            0.221254   \n",
       "184           9     0.195950         0.087544            0.208065   \n",
       "\n",
       "     corners_captured  future_corners_captured  static_weights  fitness  \n",
       "180          0.168695                 0.043774        0.109891        2  \n",
       "181          0.197906                 0.027173        0.103863       13  \n",
       "182          0.168911                 0.028275        0.236168        4  \n",
       "183          0.158094                 0.003773        0.304235      -12  \n",
       "184          0.131783                 0.033290        0.343368       -5  "
      ]
     },
     "execution_count": 27,
     "metadata": {},
     "output_type": "execute_result"
    }
   ],
   "source": [
    "last_generation_number = df_fitnesses[\"generation\"].values[-1]\n",
    "\n",
    "last_generation = df_population[df_population[\"generation\"] == last_generation_number]\n",
    "last_generation[\"fitness\"] = df_fitnesses[df_fitnesses[\"generation\"] == last_generation_number].values[0][1:]\n",
    "\n",
    "last_generation.head()"
   ]
  },
  {
   "cell_type": "code",
   "execution_count": 28,
   "metadata": {},
   "outputs": [
    {
     "data": {
      "text/plain": [
       "array([0.23264708, 0.19554934, 0.24286115, 0.19790612, 0.02717287,\n",
       "       0.10386344])"
      ]
     },
     "execution_count": 28,
     "metadata": {},
     "output_type": "execute_result"
    }
   ],
   "source": [
    "best_fitness_index = np.argmax(last_generation[\"fitness\"].values)\n",
    "best_chromosome = last_generation.values[best_fitness_index][1:-1]\n",
    "\n",
    "best_chromosome"
   ]
  },
  {
   "cell_type": "code",
   "execution_count": 29,
   "metadata": {},
   "outputs": [],
   "source": [
    "np.savetxt(best_chromosome_path, best_chromosome)"
   ]
  }
 ],
 "metadata": {
  "kernelspec": {
   "display_name": "Python 3",
   "language": "python",
   "name": "python3"
  },
  "language_info": {
   "codemirror_mode": {
    "name": "ipython",
    "version": 3
   },
   "file_extension": ".py",
   "mimetype": "text/x-python",
   "name": "python",
   "nbconvert_exporter": "python",
   "pygments_lexer": "ipython3",
   "version": "3.10.9"
  }
 },
 "nbformat": 4,
 "nbformat_minor": 2
}
